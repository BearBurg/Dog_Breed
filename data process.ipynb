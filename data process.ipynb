{
 "cells": [
  {
   "cell_type": "code",
   "execution_count": 1,
   "metadata": {},
   "outputs": [
    {
     "ename": "SyntaxError",
     "evalue": "invalid syntax (<ipython-input-1-70cb035e8ebd>, line 1)",
     "output_type": "error",
     "traceback": [
      "\u001b[0;36m  File \u001b[0;32m\"<ipython-input-1-70cb035e8ebd>\"\u001b[0;36m, line \u001b[0;32m1\u001b[0m\n\u001b[0;31m    boston_bull 87\u001b[0m\n\u001b[0m                 ^\u001b[0m\n\u001b[0;31mSyntaxError\u001b[0m\u001b[0;31m:\u001b[0m invalid syntax\n"
     ]
    }
   ],
   "source": [
    "boston_bull 87\n",
    "dingo 80\n",
    "pekinese 75\n",
    "bluetick 85\n",
    "golden_retriever 67\n",
    "bedlington_terrier 89\n",
    "borzoi 75\n",
    "basenji 110\n",
    "scottish_deerhound 126\n",
    "shetland_sheepdog 76"
   ]
  },
  {
   "cell_type": "code",
   "execution_count": 23,
   "metadata": {
    "collapsed": true
   },
   "outputs": [],
   "source": [
    "import csv\n",
    "import glob"
   ]
  },
  {
   "cell_type": "code",
   "execution_count": 3,
   "metadata": {
    "collapsed": true
   },
   "outputs": [],
   "source": [
    "image_label = {}\n",
    "with open('dataset/labels.csv') as csv_file:\n",
    "    reader = csv.reader(csv_file, delimiter=',')\n",
    "    for row in reader:\n",
    "        image_name = row[0]\n",
    "        label = row[1]\n",
    "        \n",
    "        if label == 'breed':\n",
    "            continue\n",
    "        \n",
    "        if label not in image_label:\n",
    "            image_label[label] = set()\n",
    "            \n",
    "        image_label[label].add(image_name)"
   ]
  },
  {
   "cell_type": "code",
   "execution_count": 21,
   "metadata": {},
   "outputs": [],
   "source": [
    "target = {'boston_bull', 'dingo', 'pekinese', 'bluetick', 'golden_retriever', 'bedlington_terrier', 'borzoi', 'basenji',\n",
    "         'scottish_deerhound', 'shetland_sheepdog'}\n",
    "c = 0\n",
    "name_file = open(\"./data_process/dog_name.txt\",'w')\n",
    "for l in image_label.keys():\n",
    "    with open(\"./data_process/%.3d.%s.txt\"%(c, l), 'w') as output:\n",
    "        name_file.write(\"%.3d.%s\\n\"%(c, l))\n",
    "        file_names = image_label[l]\n",
    "        for n in file_names:\n",
    "            output.write(n+\".jpg\\n\")  \n",
    "            \n",
    "    c += 1\n",
    "    \n",
    "name_file.close()\n"
   ]
  },
  {
   "cell_type": "code",
   "execution_count": 71,
   "metadata": {},
   "outputs": [
    {
     "name": "stdout",
     "output_type": "stream",
     "text": [
      "{'australian_terrier': 'australian_terrier', 'toy_poodle': 'toy_poodle', 'great_pyrenees': 'great_pyrenees', 'maltese_dog': 'maltese_dog', 'norwich_terrier': 'norwich_terrier', 'whippet': 'whippet', 'boston_bull': 'boston_bull', 'irish_setter': 'irish_setter', 'rottweiler': 'rottweiler', 'kelpie': 'kelpie', 'schipperke': 'schipperke', 'leonberg': 'leonberg', 'welsh_springer_spaniel': 'welsh_springer_spaniel', 'pomeranian': 'pomeranian', 'pekinese': 'pekinese', 'irish_wolfhound': 'irish_wolfhound', 'blenheim_spaniel': 'blenheim_spaniel', 'basenji': 'basenji', 'african_hunting_dog': 'african_hunting_dog', 'komondor': 'komondor', 'yorkshire_terrier': 'yorkshire_terrier', 'basset': 'basset', 'japanese_spaniel': 'japanese_spaniel', 'standard_schnauzer': 'standard_schnauzer', 'dhole': 'dhole', 'miniature_pinscher': 'miniature_pinscher', 'lhasa': 'lhasa', 'walker_hound': 'walker_hound', 'kerry_blue_terrier': 'kerry_blue_terrier', 'standard_poodle': 'standard_poodle', 'saint_bernard': 'saint_bernard', 'chihuahua': 'chihuahua', 'afghan_hound': 'afghan_hound', 'newfoundland': 'newfoundland', 'black-and-tan_coonhound': 'black-and-tan_coonhound', 'pug': 'pug', 'scottish_deerhound': 'scottish_deerhound', 'cairn': 'cairn', 'malamute': 'malamute', 'beagle': 'beagle', 'vizsla': 'vizsla', 'collie': 'collie', 'italian_greyhound': 'italian_greyhound', 'west_highland_white_terrier': 'west_highland_white_terrier', 'brittany_spaniel': 'brittany_spaniel', 'english_springer': 'english_springer', 'affenpinscher': 'affenpinscher', 'doberman': 'doberman', 'silky_terrier': 'silky_terrier', 'pembroke': 'pembroke', 'weimaraner': 'weimaraner', 'papillon': 'papillon', 'norwegian_elkhound': 'norwegian_elkhound', 'sussex_spaniel': 'sussex_spaniel', 'soft-coated_wheaten_terrier': 'soft-coated_wheaten_terrier', 'shih-tzu': 'shih-tzu', 'ibizan_hound': 'ibizan_hound', 'cocker_spaniel': 'cocker_spaniel', 'flat-coated_retriever': 'flat-coated_retriever', 'american_staffordshire_terrier': 'american_staffordshire_terrier', 'rhodesian_ridgeback': 'rhodesian_ridgeback', 'samoyed': 'samoyed', 'brabancon_griffon': 'brabancon_griffon', 'groenendael': 'groenendael', 'shetland_sheepdog': 'shetland_sheepdog', 'bouvier_des_flandres': 'bouvier_des_flandres', 'lakeland_terrier': 'lakeland_terrier', 'saluki': 'saluki', 'miniature_poodle': 'miniature_poodle', 'tibetan_terrier': 'tibetan_terrier', 'eskimo_dog': 'eskimo_dog', 'golden_retriever': 'golden_retriever', 'staffordshire_bullterrier': 'staffordshire_bullterrier', 'giant_schnauzer': 'giant_schnauzer', 'bedlington_terrier': 'bedlington_terrier', 'miniature_schnauzer': 'miniature_schnauzer', 'border_collie': 'border_collie', 'appenzeller': 'appenzeller', 'borzoi': 'borzoi', 'border_terrier': 'border_terrier', 'siberian_husky': 'siberian_husky', 'chow': 'chow', 'curly-coated_retriever': 'curly-coated_retriever', 'airedale': 'airedale', 'dingo': 'dingo', 'otterhound': 'otterhound', 'keeshond': 'keeshond', 'french_bulldog': 'french_bulldog', 'toy_terrier': 'toy_terrier', 'sealyham_terrier': 'sealyham_terrier', 'labrador_retriever': 'labrador_retriever', 'bernese_mountain_dog': 'bernese_mountain_dog', 'german_shepherd': 'german_shepherd', 'briard': 'briard', 'chesapeake_bay_retriever': 'chesapeake_bay_retriever', 'kuvasz': 'kuvasz', 'malinois': 'malinois', 'great_dane': 'great_dane', 'norfolk_terrier': 'norfolk_terrier', 'wire-haired_fox_terrier': 'wire-haired_fox_terrier', 'dandie_dinmont': 'dandie_dinmont', 'bull_mastiff': 'bull_mastiff', 'entlebucher': 'entlebucher', 'scotch_terrier': 'scotch_terrier', 'clumber': 'clumber', 'boxer': 'boxer', 'cardigan': 'cardigan', 'tibetan_mastiff': 'tibetan_mastiff', 'bloodhound': 'bloodhound', 'irish_water_spaniel': 'irish_water_spaniel', 'old_english_sheepdog': 'old_english_sheepdog', 'bluetick': 'bluetick', 'irish_terrier': 'irish_terrier', 'mexican_hairless': 'mexican_hairless', 'english_setter': 'english_setter', 'redbone': 'redbone', 'gordon_setter': 'gordon_setter', 'english_foxhound': 'english_foxhound', 'german_short-haired_pointer': 'german_short-haired_pointer', 'greater_swiss_mountain_dog': 'greater_swiss_mountain_dog'}\n"
     ]
    }
   ],
   "source": [
    "f = glob.iglob(\"./images/*\")\n",
    "test_labels = {}\n",
    "\n",
    "for e in f:\n",
    "    test_file_name = e.split(\"/\")[-1]\n",
    "\n",
    "    test_labels[test_file_name] = test_file_name\n",
    "\n",
    "print(test_labels)\n",
    "# print(set(test_labels.values()).difference(image_label.keys()))\n",
    "# print(set(image_label.keys()).difference(test_labels.values()))"
   ]
  },
  {
   "cell_type": "code",
   "execution_count": 67,
   "metadata": {},
   "outputs": [
    {
     "name": "stdout",
     "output_type": "stream",
     "text": [
      "['n02112018', 'Pomerania']\n"
     ]
    }
   ],
   "source": [
    "s = \"n02112018-Pomerania\".split(\"-\")\n",
    "print(s)"
   ]
  },
  {
   "cell_type": "code",
   "execution_count": 82,
   "metadata": {},
   "outputs": [],
   "source": [
    "import os\n",
    "\n",
    "f = glob.iglob(\"./dataset_large/train/*/\")\n",
    "\n",
    "for e in f:\n",
    "    target =  e.split(\"/\")[-2]\n",
    "    \n",
    "    os.rename(\"./images/\"+ target[4:], \"./images/\" + target)\n"
   ]
  },
  {
   "cell_type": "code",
   "execution_count": null,
   "metadata": {
    "collapsed": true
   },
   "outputs": [],
   "source": []
  }
 ],
 "metadata": {
  "kernelspec": {
   "display_name": "Python 3",
   "language": "python",
   "name": "python3"
  },
  "language_info": {
   "codemirror_mode": {
    "name": "ipython",
    "version": 3
   },
   "file_extension": ".py",
   "mimetype": "text/x-python",
   "name": "python",
   "nbconvert_exporter": "python",
   "pygments_lexer": "ipython3",
   "version": "3.6.3"
  }
 },
 "nbformat": 4,
 "nbformat_minor": 2
}
