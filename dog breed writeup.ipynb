{
 "cells": [
  {
   "cell_type": "markdown",
   "metadata": {},
   "source": [
    "# Dog breed classification"
   ]
  },
  {
   "cell_type": "markdown",
   "metadata": {},
   "source": [
    "## Data exploration"
   ]
  },
  {
   "cell_type": "code",
   "execution_count": 2,
   "metadata": {},
   "outputs": [
    {
     "name": "stderr",
     "output_type": "stream",
     "text": [
      "/Users/BearBurg/anaconda3/lib/python3.6/site-packages/h5py/__init__.py:34: FutureWarning: Conversion of the second argument of issubdtype from `float` to `np.floating` is deprecated. In future, it will be treated as `np.float64 == np.dtype(float).type`.\n",
      "  from ._conv import register_converters as _register_converters\n",
      "Using TensorFlow backend.\n"
     ]
    }
   ],
   "source": [
    "import csv\n",
    "import matplotlib.pylab as plt\n",
    "import os\n",
    "from keras.applications.resnet50 import ResNet50\n",
    "import numpy as np\n",
    "import PIL"
   ]
  },
  {
   "cell_type": "markdown",
   "metadata": {},
   "source": [
    "### Data distrubution"
   ]
  },
  {
   "cell_type": "markdown",
   "metadata": {},
   "source": [
    "### Load data"
   ]
  },
  {
   "cell_type": "code",
   "execution_count": 50,
   "metadata": {
    "collapsed": true
   },
   "outputs": [],
   "source": [
    "from keras.layers import Conv2D, MaxPooling2D, GlobalAveragePooling2D\n",
    "from keras.layers import Dropout, Flatten, Dense\n",
    "from keras.models import Sequential\n",
    "from keras.callbacks import Callback, EarlyStopping, ModelCheckpoint\n",
    "from sklearn.datasets import load_files       \n",
    "from keras.utils import np_utils\n",
    "from keras.models import Model\n",
    "from keras.applications.resnet50 import ResNet50, preprocess_input\n",
    "from keras.preprocessing import image \n",
    "\n",
    "import numpy as np\n",
    "from glob import glob\n",
    "from PIL import ImageFile  \n",
    "from tqdm import tqdm\n",
    "     \n"
   ]
  },
  {
   "cell_type": "code",
   "execution_count": 47,
   "metadata": {
    "collapsed": true
   },
   "outputs": [],
   "source": [
    "def load_dataset(path):\n",
    "    data = load_files(path)\n",
    "    dog_files = np.array(data['filenames'])\n",
    "    dog_targets = np_utils.to_categorical(np.array(data['target']), 133)\n",
    "    return dog_files, dog_targets\n",
    "\n",
    "def path_to_tensor(img_path, size=224):\n",
    "    img = image.load_img(img_path, target_size=(size, size))\n",
    "    x = image.img_to_array(img)\n",
    "    return np.expand_dims(x, axis=0)\n",
    "\n",
    "def paths_to_tensor(img_paths):\n",
    "    list_of_tensors = [path_to_tensor(img_path) for img_path in tqdm(img_paths)]\n",
    "    return np.vstack(list_of_tensors)"
   ]
  },
  {
   "cell_type": "markdown",
   "metadata": {},
   "source": [
    "### Global variables"
   ]
  },
  {
   "cell_type": "code",
   "execution_count": 48,
   "metadata": {},
   "outputs": [],
   "source": [
    "train_files_name = \"dogImages/train\"\n",
    "test_file_name = \"dogImages/test\"\n",
    "dog_names = [item for item in sorted(glob(train_files_name + \"/*/\"))]"
   ]
  },
  {
   "cell_type": "code",
   "execution_count": 49,
   "metadata": {},
   "outputs": [
    {
     "name": "stderr",
     "output_type": "stream",
     "text": [
      "100%|██████████| 6680/6680 [02:18<00:00, 48.25it/s]\n",
      "100%|██████████| 836/836 [00:18<00:00, 44.72it/s] \n"
     ]
    }
   ],
   "source": [
    "# load data\n",
    "train_files, train_targets = load_dataset(train_files_name)\n",
    "test_files, test_targets = load_dataset(test_file_name)\n",
    "\n",
    "# parse tensors\n",
    "train_tensors = paths_to_tensor(train_files)\n",
    "test_tensors = paths_to_tensor(test_files)"
   ]
  },
  {
   "cell_type": "markdown",
   "metadata": {},
   "source": [
    "## CNN from scratch"
   ]
  },
  {
   "cell_type": "markdown",
   "metadata": {},
   "source": [
    "### Model"
   ]
  },
  {
   "cell_type": "markdown",
   "metadata": {},
   "source": [
    "### Accuracy"
   ]
  },
  {
   "cell_type": "markdown",
   "metadata": {},
   "source": [
    "## Transfer learning"
   ]
  },
  {
   "cell_type": "markdown",
   "metadata": {},
   "source": [
    "### Extract features from ResNet50"
   ]
  },
  {
   "cell_type": "code",
   "execution_count": 42,
   "metadata": {
    "collapsed": true
   },
   "outputs": [],
   "source": [
    "from PIL import ImageFile                            \n",
    "ImageFile.LOAD_TRUNCATED_IMAGES = True"
   ]
  },
  {
   "cell_type": "code",
   "execution_count": 45,
   "metadata": {
    "collapsed": true
   },
   "outputs": [],
   "source": [
    "def extract_Resnet50(tensor):\n",
    "    return ResNet50(weights='imagenet', include_top=False, pooling=\"avg\").predict(preprocess_input(tensor))"
   ]
  },
  {
   "cell_type": "code",
   "execution_count": 14,
   "metadata": {
    "collapsed": true
   },
   "outputs": [],
   "source": [
    "def expand_dimensions(f):\n",
    "    f = np.expand_dims(f, axis=1)\n",
    "    f = np.expand_dims(f, axis=1)\n",
    "    return f"
   ]
  },
  {
   "cell_type": "code",
   "execution_count": null,
   "metadata": {
    "collapsed": true
   },
   "outputs": [],
   "source": [
    "# extract feature\n",
    "train_features_resnet50 = extract_Resnet50(train_tensors)\n",
    "test_features_resnet50 = extract_Resnet50(test_tensors)\n",
    "\n",
    "# expand dimensions\n",
    "train_features_resnet50 = expand_dimensions(train_features_resnet50)\n",
    "test_features_resnet50 = expand_dimensions(test_tensors)\n",
    "\n",
    "# save as npz file\n",
    "np.savez_compressed('resnet50data',test=test_features_resnet50, train = train_features_resnet50)"
   ]
  },
  {
   "cell_type": "code",
   "execution_count": 15,
   "metadata": {},
   "outputs": [],
   "source": [
    "resnet50Data = np.load('resnet50data.npz')\n",
    "resnet50Train = resnet50Data['train']\n",
    "resnet50Test = resnet50Data['test']\n",
    "resnet50Train = expand_dimensions(resnet50Train)\n",
    "resnet50Test = expand_dimensions(resnet50Test)"
   ]
  },
  {
   "cell_type": "code",
   "execution_count": 21,
   "metadata": {
    "collapsed": true
   },
   "outputs": [],
   "source": [
    "tt = np.load('DogResnet50Data.npz')\n",
    "resnet50Test = tt['test']"
   ]
  },
  {
   "cell_type": "markdown",
   "metadata": {},
   "source": [
    "### Train model"
   ]
  },
  {
   "cell_type": "code",
   "execution_count": 11,
   "metadata": {
    "collapsed": true
   },
   "outputs": [],
   "source": [
    "def tranfer_learning(trainingData, trainLabels, length):\n",
    "    model = Sequential()\n",
    "    model.add(GlobalAveragePooling2D(input_shape=trainingData.shape[1:]))\n",
    "    model.add(Dense(1000, activation='relu'))\n",
    "    model.add(Dropout(0.5))\n",
    "    model.add(Dense(length, activation='softmax'))\n",
    "\n",
    "    model.summary()\n",
    "    model.compile(loss='categorical_crossentropy', optimizer='rmsprop', metrics=['accuracy'])\n",
    "\n",
    "    model.fit(trainingData, trainLabels, epochs=10, batch_size=20, verbose=1)\n",
    "    return model"
   ]
  },
  {
   "cell_type": "code",
   "execution_count": 16,
   "metadata": {},
   "outputs": [
    {
     "name": "stdout",
     "output_type": "stream",
     "text": [
      "_________________________________________________________________\n",
      "Layer (type)                 Output Shape              Param #   \n",
      "=================================================================\n",
      "global_average_pooling2d_2 ( (None, 2048)              0         \n",
      "_________________________________________________________________\n",
      "dense_1 (Dense)              (None, 1000)              2049000   \n",
      "_________________________________________________________________\n",
      "dropout_1 (Dropout)          (None, 1000)              0         \n",
      "_________________________________________________________________\n",
      "dense_2 (Dense)              (None, 133)               133133    \n",
      "=================================================================\n",
      "Total params: 2,182,133\n",
      "Trainable params: 2,182,133\n",
      "Non-trainable params: 0\n",
      "_________________________________________________________________\n",
      "Epoch 1/10\n",
      "6680/6680 [==============================] - 10s 2ms/step - loss: 2.4464 - acc: 0.4307\n",
      "Epoch 2/10\n",
      "6680/6680 [==============================] - 10s 1ms/step - loss: 1.0925 - acc: 0.6945\n",
      "Epoch 3/10\n",
      "6680/6680 [==============================] - 9s 1ms/step - loss: 0.8283 - acc: 0.7648\n",
      "Epoch 4/10\n",
      "6680/6680 [==============================] - 9s 1ms/step - loss: 0.7191 - acc: 0.7906\n",
      "Epoch 5/10\n",
      "6680/6680 [==============================] - 10s 2ms/step - loss: 0.6134 - acc: 0.8265: 0s - loss: 0.6125 \n",
      "Epoch 6/10\n",
      "6680/6680 [==============================] - 9s 1ms/step - loss: 0.5644 - acc: 0.8454\n",
      "Epoch 7/10\n",
      "6680/6680 [==============================] - 10s 2ms/step - loss: 0.4887 - acc: 0.8615\n",
      "Epoch 8/10\n",
      "6680/6680 [==============================] - 10s 1ms/step - loss: 0.4775 - acc: 0.8675\n",
      "Epoch 9/10\n",
      "6680/6680 [==============================] - 10s 1ms/step - loss: 0.4290 - acc: 0.8819\n",
      "Epoch 10/10\n",
      "6680/6680 [==============================] - ETA: 0s - loss: 0.4240 - acc: 0.889 - 10s 1ms/step - loss: 0.4242 - acc: 0.8897\n"
     ]
    }
   ],
   "source": [
    "resnet_model = tranfer_learning(resnet50Train, train_targets, len(dog_names))"
   ]
  },
  {
   "cell_type": "markdown",
   "metadata": {},
   "source": [
    "### Test accuracy"
   ]
  },
  {
   "cell_type": "code",
   "execution_count": 17,
   "metadata": {
    "collapsed": true
   },
   "outputs": [],
   "source": [
    "def calculate_accuracy(model, testData, testLabel, m):\n",
    "    i = 0\n",
    "    a = 0\n",
    "    for test in testData:\n",
    "        arr = model.predict(np.expand_dims(test,axis = 0))\n",
    "        idx = np.argsort(-arr[0])[:m]\n",
    "        if np.argmax(testLabel[i]) in idx:\n",
    "            a += 1\n",
    "        i += 1\n",
    "    return a/len(testLabel)"
   ]
  },
  {
   "cell_type": "code",
   "execution_count": 22,
   "metadata": {},
   "outputs": [
    {
     "name": "stdout",
     "output_type": "stream",
     "text": [
      "0.9605263157894737\n"
     ]
    }
   ],
   "source": [
    "# test accuracy\n",
    "m = 3\n",
    "acc = calculate_accuracy(resnet_model, resnet50Test, test_targets, m)\n",
    "print(acc)"
   ]
  },
  {
   "cell_type": "markdown",
   "metadata": {},
   "source": [
    "## Prediction"
   ]
  },
  {
   "cell_type": "code",
   "execution_count": 23,
   "metadata": {
    "collapsed": true
   },
   "outputs": [],
   "source": [
    "def make_prediction(dog_names, model, testData, m):\n",
    "    labelList = []\n",
    "    \n",
    "    for test in testData:\n",
    "        arr = model.predict(np.expand_dims(test,axis = 0))\n",
    "        idx = np.argsort(-arr[0])[:m]\n",
    "        print(idx)\n",
    "        l = [dog_names[index] for index in idx]\n",
    "        labelList.append(l)\n",
    "        \n",
    "    return labelList"
   ]
  },
  {
   "cell_type": "code",
   "execution_count": 24,
   "metadata": {
    "collapsed": true
   },
   "outputs": [],
   "source": [
    "import matplotlib.image as mpimg\n",
    "import matplotlib.pyplot as plt \n",
    "\n",
    "def show_sample(name):\n",
    "    pp, ax = plt.subplots()\n",
    "    print(name[4:])\n",
    "    path = \"dogImages/train/{0}/*\".format(name)\n",
    "    \n",
    "    path = glob(path)[0]\n",
    "    \n",
    "    img = mpimg.imread(path)\n",
    "    pp = ax.imshow(img)        \n",
    "    plt.axis('off')\n",
    "    plt.show()"
   ]
  },
  {
   "cell_type": "code",
   "execution_count": 25,
   "metadata": {
    "collapsed": true
   },
   "outputs": [],
   "source": [
    "def preprocess(path, npz_name):\n",
    "    files, targets = load_dataset(path)\n",
    "    tensors = paths_to_tensor(files)\n",
    "    features_resnet50 = extract_Resnet50(tensors)\n",
    "    features_resnet50 = expand_dimensions(features_resnet50)\n",
    "    \n",
    "    np.savez_compressed(npz_name ,test=features_resnet50)\n"
   ]
  },
  {
   "cell_type": "code",
   "execution_count": 26,
   "metadata": {
    "collapsed": true
   },
   "outputs": [],
   "source": [
    "def resnet50_predictor(path, name, model, m=3):\n",
    "    preprocess(path, name)\n",
    "    \n",
    "    features = np.load(name + \".npz\")['test']\n",
    "    make_prediction(dog_names, model, features, m)"
   ]
  },
  {
   "cell_type": "code",
   "execution_count": 51,
   "metadata": {},
   "outputs": [
    {
     "name": "stderr",
     "output_type": "stream",
     "text": [
      "100%|██████████| 58/58 [00:00<00:00, 76.39it/s]\n"
     ]
    },
    {
     "name": "stdout",
     "output_type": "stream",
     "text": [
      "[102  40   9]\n",
      "[102  40  77]\n",
      "[102  40   9]\n",
      "[102  40   9]\n",
      "[102  40  39]\n",
      "[102  40  49]\n",
      "[102  40   9]\n",
      "[ 40 102  33]\n",
      "[102  40  49]\n",
      "[102  40   9]\n",
      "[102  40  33]\n",
      "[102  40   9]\n",
      "[ 40 102  39]\n",
      "[102  72  71]\n",
      "[102   9  40]\n",
      "[102  40  95]\n",
      "[102  40 120]\n",
      "[102  40   9]\n",
      "[102  40   9]\n",
      "[102  40  49]\n",
      "[102  72  40]\n",
      "[102  40  49]\n",
      "[ 40 102  26]\n",
      "[102  40   9]\n",
      "[102  40   9]\n",
      "[102  40   9]\n",
      "[102  40  49]\n",
      "[102   9  40]\n",
      "[102  40   9]\n",
      "[102  40  49]\n",
      "[102  40  43]\n",
      "[102  40  49]\n",
      "[102  40   9]\n",
      "[102  40  26]\n",
      "[102  40   9]\n",
      "[102  40  49]\n",
      "[102  40  49]\n",
      "[102  40   9]\n",
      "[102   9  40]\n",
      "[102  40  49]\n",
      "[102  40   9]\n",
      "[102  40  26]\n",
      "[ 40 102   9]\n",
      "[102  40   9]\n",
      "[102  40  97]\n",
      "[102  40  49]\n",
      "[102  40  49]\n",
      "[102  40  43]\n",
      "[102  40   9]\n",
      "[102   9  40]\n",
      "[102  40   9]\n",
      "[102  40   9]\n",
      "[102  40   9]\n",
      "[102  40   9]\n",
      "[102  40   9]\n",
      "[102  40   9]\n",
      "[102  40   9]\n",
      "[102  40 120]\n"
     ]
    }
   ],
   "source": [
    "dog_dir = \"testImage/test\"\n",
    "resnet50_predictor(dog_dir , 'dog_feature', resnet_model)"
   ]
  },
  {
   "cell_type": "code",
   "execution_count": 32,
   "metadata": {},
   "outputs": [
    {
     "name": "stdout",
     "output_type": "stream",
     "text": [
      "[102  40   9]\n",
      "[102  40  77]\n",
      "[102  40   9]\n",
      "[102  40   9]\n",
      "[102  40  39]\n",
      "[102  40  49]\n",
      "[102  40   9]\n",
      "[ 40 102  33]\n",
      "[102  40  49]\n",
      "[102  40   9]\n",
      "[102  40  33]\n",
      "[102  40   9]\n",
      "[ 40 102  39]\n",
      "[102  72  71]\n",
      "[102   9  40]\n",
      "[102  40  95]\n",
      "[102  40 120]\n",
      "[102  40   9]\n",
      "[102  40   9]\n",
      "[102  40  49]\n",
      "[102  72  40]\n",
      "[102  40  49]\n",
      "[ 40 102  26]\n",
      "[102  40   9]\n",
      "[102  40   9]\n",
      "[102  40   9]\n",
      "[102  40  49]\n",
      "[102   9  40]\n",
      "[102  40   9]\n",
      "[102  40  49]\n",
      "[102  40  43]\n",
      "[102  40  49]\n",
      "[102  40   9]\n",
      "[102  40  26]\n",
      "[102  40   9]\n",
      "[102  40  49]\n",
      "[102  40  49]\n",
      "[102  40   9]\n",
      "[102   9  40]\n",
      "[102  40  49]\n",
      "[102  40   9]\n",
      "[102  40  26]\n",
      "[ 40 102   9]\n",
      "[102  40   9]\n",
      "[102  40  97]\n",
      "[102  40  49]\n",
      "[102  40  49]\n",
      "[102  40  43]\n",
      "[102  40   9]\n",
      "[102   9  40]\n",
      "[102  40   9]\n",
      "[102  40   9]\n",
      "[102  40   9]\n",
      "[102  40   9]\n",
      "[102  40   9]\n",
      "[102  40   9]\n",
      "[102  40   9]\n",
      "[102  40 120]\n"
     ]
    },
    {
     "data": {
      "text/plain": [
       "[['dogImages/train/103.Mastiff/',\n",
       "  'dogImages/train/041.Bullmastiff/',\n",
       "  'dogImages/train/010.Anatolian_shepherd_dog/'],\n",
       " ['dogImages/train/103.Mastiff/',\n",
       "  'dogImages/train/041.Bullmastiff/',\n",
       "  'dogImages/train/078.Great_dane/'],\n",
       " ['dogImages/train/103.Mastiff/',\n",
       "  'dogImages/train/041.Bullmastiff/',\n",
       "  'dogImages/train/010.Anatolian_shepherd_dog/'],\n",
       " ['dogImages/train/103.Mastiff/',\n",
       "  'dogImages/train/041.Bullmastiff/',\n",
       "  'dogImages/train/010.Anatolian_shepherd_dog/'],\n",
       " ['dogImages/train/103.Mastiff/',\n",
       "  'dogImages/train/041.Bullmastiff/',\n",
       "  'dogImages/train/040.Bulldog/'],\n",
       " ['dogImages/train/103.Mastiff/',\n",
       "  'dogImages/train/041.Bullmastiff/',\n",
       "  'dogImages/train/050.Chinese_shar-pei/'],\n",
       " ['dogImages/train/103.Mastiff/',\n",
       "  'dogImages/train/041.Bullmastiff/',\n",
       "  'dogImages/train/010.Anatolian_shepherd_dog/'],\n",
       " ['dogImages/train/041.Bullmastiff/',\n",
       "  'dogImages/train/103.Mastiff/',\n",
       "  'dogImages/train/034.Boxer/'],\n",
       " ['dogImages/train/103.Mastiff/',\n",
       "  'dogImages/train/041.Bullmastiff/',\n",
       "  'dogImages/train/050.Chinese_shar-pei/'],\n",
       " ['dogImages/train/103.Mastiff/',\n",
       "  'dogImages/train/041.Bullmastiff/',\n",
       "  'dogImages/train/010.Anatolian_shepherd_dog/'],\n",
       " ['dogImages/train/103.Mastiff/',\n",
       "  'dogImages/train/041.Bullmastiff/',\n",
       "  'dogImages/train/034.Boxer/'],\n",
       " ['dogImages/train/103.Mastiff/',\n",
       "  'dogImages/train/041.Bullmastiff/',\n",
       "  'dogImages/train/010.Anatolian_shepherd_dog/'],\n",
       " ['dogImages/train/041.Bullmastiff/',\n",
       "  'dogImages/train/103.Mastiff/',\n",
       "  'dogImages/train/040.Bulldog/'],\n",
       " ['dogImages/train/103.Mastiff/',\n",
       "  'dogImages/train/073.German_wirehaired_pointer/',\n",
       "  'dogImages/train/072.German_shorthaired_pointer/'],\n",
       " ['dogImages/train/103.Mastiff/',\n",
       "  'dogImages/train/010.Anatolian_shepherd_dog/',\n",
       "  'dogImages/train/041.Bullmastiff/'],\n",
       " ['dogImages/train/103.Mastiff/',\n",
       "  'dogImages/train/041.Bullmastiff/',\n",
       "  'dogImages/train/096.Labrador_retriever/'],\n",
       " ['dogImages/train/103.Mastiff/',\n",
       "  'dogImages/train/041.Bullmastiff/',\n",
       "  'dogImages/train/121.Plott/'],\n",
       " ['dogImages/train/103.Mastiff/',\n",
       "  'dogImages/train/041.Bullmastiff/',\n",
       "  'dogImages/train/010.Anatolian_shepherd_dog/'],\n",
       " ['dogImages/train/103.Mastiff/',\n",
       "  'dogImages/train/041.Bullmastiff/',\n",
       "  'dogImages/train/010.Anatolian_shepherd_dog/'],\n",
       " ['dogImages/train/103.Mastiff/',\n",
       "  'dogImages/train/041.Bullmastiff/',\n",
       "  'dogImages/train/050.Chinese_shar-pei/'],\n",
       " ['dogImages/train/103.Mastiff/',\n",
       "  'dogImages/train/073.German_wirehaired_pointer/',\n",
       "  'dogImages/train/041.Bullmastiff/'],\n",
       " ['dogImages/train/103.Mastiff/',\n",
       "  'dogImages/train/041.Bullmastiff/',\n",
       "  'dogImages/train/050.Chinese_shar-pei/'],\n",
       " ['dogImages/train/041.Bullmastiff/',\n",
       "  'dogImages/train/103.Mastiff/',\n",
       "  'dogImages/train/027.Bloodhound/'],\n",
       " ['dogImages/train/103.Mastiff/',\n",
       "  'dogImages/train/041.Bullmastiff/',\n",
       "  'dogImages/train/010.Anatolian_shepherd_dog/'],\n",
       " ['dogImages/train/103.Mastiff/',\n",
       "  'dogImages/train/041.Bullmastiff/',\n",
       "  'dogImages/train/010.Anatolian_shepherd_dog/'],\n",
       " ['dogImages/train/103.Mastiff/',\n",
       "  'dogImages/train/041.Bullmastiff/',\n",
       "  'dogImages/train/010.Anatolian_shepherd_dog/'],\n",
       " ['dogImages/train/103.Mastiff/',\n",
       "  'dogImages/train/041.Bullmastiff/',\n",
       "  'dogImages/train/050.Chinese_shar-pei/'],\n",
       " ['dogImages/train/103.Mastiff/',\n",
       "  'dogImages/train/010.Anatolian_shepherd_dog/',\n",
       "  'dogImages/train/041.Bullmastiff/'],\n",
       " ['dogImages/train/103.Mastiff/',\n",
       "  'dogImages/train/041.Bullmastiff/',\n",
       "  'dogImages/train/010.Anatolian_shepherd_dog/'],\n",
       " ['dogImages/train/103.Mastiff/',\n",
       "  'dogImages/train/041.Bullmastiff/',\n",
       "  'dogImages/train/050.Chinese_shar-pei/'],\n",
       " ['dogImages/train/103.Mastiff/',\n",
       "  'dogImages/train/041.Bullmastiff/',\n",
       "  'dogImages/train/044.Cane_corso/'],\n",
       " ['dogImages/train/103.Mastiff/',\n",
       "  'dogImages/train/041.Bullmastiff/',\n",
       "  'dogImages/train/050.Chinese_shar-pei/'],\n",
       " ['dogImages/train/103.Mastiff/',\n",
       "  'dogImages/train/041.Bullmastiff/',\n",
       "  'dogImages/train/010.Anatolian_shepherd_dog/'],\n",
       " ['dogImages/train/103.Mastiff/',\n",
       "  'dogImages/train/041.Bullmastiff/',\n",
       "  'dogImages/train/027.Bloodhound/'],\n",
       " ['dogImages/train/103.Mastiff/',\n",
       "  'dogImages/train/041.Bullmastiff/',\n",
       "  'dogImages/train/010.Anatolian_shepherd_dog/'],\n",
       " ['dogImages/train/103.Mastiff/',\n",
       "  'dogImages/train/041.Bullmastiff/',\n",
       "  'dogImages/train/050.Chinese_shar-pei/'],\n",
       " ['dogImages/train/103.Mastiff/',\n",
       "  'dogImages/train/041.Bullmastiff/',\n",
       "  'dogImages/train/050.Chinese_shar-pei/'],\n",
       " ['dogImages/train/103.Mastiff/',\n",
       "  'dogImages/train/041.Bullmastiff/',\n",
       "  'dogImages/train/010.Anatolian_shepherd_dog/'],\n",
       " ['dogImages/train/103.Mastiff/',\n",
       "  'dogImages/train/010.Anatolian_shepherd_dog/',\n",
       "  'dogImages/train/041.Bullmastiff/'],\n",
       " ['dogImages/train/103.Mastiff/',\n",
       "  'dogImages/train/041.Bullmastiff/',\n",
       "  'dogImages/train/050.Chinese_shar-pei/'],\n",
       " ['dogImages/train/103.Mastiff/',\n",
       "  'dogImages/train/041.Bullmastiff/',\n",
       "  'dogImages/train/010.Anatolian_shepherd_dog/'],\n",
       " ['dogImages/train/103.Mastiff/',\n",
       "  'dogImages/train/041.Bullmastiff/',\n",
       "  'dogImages/train/027.Bloodhound/'],\n",
       " ['dogImages/train/041.Bullmastiff/',\n",
       "  'dogImages/train/103.Mastiff/',\n",
       "  'dogImages/train/010.Anatolian_shepherd_dog/'],\n",
       " ['dogImages/train/103.Mastiff/',\n",
       "  'dogImages/train/041.Bullmastiff/',\n",
       "  'dogImages/train/010.Anatolian_shepherd_dog/'],\n",
       " ['dogImages/train/103.Mastiff/',\n",
       "  'dogImages/train/041.Bullmastiff/',\n",
       "  'dogImages/train/098.Leonberger/'],\n",
       " ['dogImages/train/103.Mastiff/',\n",
       "  'dogImages/train/041.Bullmastiff/',\n",
       "  'dogImages/train/050.Chinese_shar-pei/'],\n",
       " ['dogImages/train/103.Mastiff/',\n",
       "  'dogImages/train/041.Bullmastiff/',\n",
       "  'dogImages/train/050.Chinese_shar-pei/'],\n",
       " ['dogImages/train/103.Mastiff/',\n",
       "  'dogImages/train/041.Bullmastiff/',\n",
       "  'dogImages/train/044.Cane_corso/'],\n",
       " ['dogImages/train/103.Mastiff/',\n",
       "  'dogImages/train/041.Bullmastiff/',\n",
       "  'dogImages/train/010.Anatolian_shepherd_dog/'],\n",
       " ['dogImages/train/103.Mastiff/',\n",
       "  'dogImages/train/010.Anatolian_shepherd_dog/',\n",
       "  'dogImages/train/041.Bullmastiff/'],\n",
       " ['dogImages/train/103.Mastiff/',\n",
       "  'dogImages/train/041.Bullmastiff/',\n",
       "  'dogImages/train/010.Anatolian_shepherd_dog/'],\n",
       " ['dogImages/train/103.Mastiff/',\n",
       "  'dogImages/train/041.Bullmastiff/',\n",
       "  'dogImages/train/010.Anatolian_shepherd_dog/'],\n",
       " ['dogImages/train/103.Mastiff/',\n",
       "  'dogImages/train/041.Bullmastiff/',\n",
       "  'dogImages/train/010.Anatolian_shepherd_dog/'],\n",
       " ['dogImages/train/103.Mastiff/',\n",
       "  'dogImages/train/041.Bullmastiff/',\n",
       "  'dogImages/train/010.Anatolian_shepherd_dog/'],\n",
       " ['dogImages/train/103.Mastiff/',\n",
       "  'dogImages/train/041.Bullmastiff/',\n",
       "  'dogImages/train/010.Anatolian_shepherd_dog/'],\n",
       " ['dogImages/train/103.Mastiff/',\n",
       "  'dogImages/train/041.Bullmastiff/',\n",
       "  'dogImages/train/010.Anatolian_shepherd_dog/'],\n",
       " ['dogImages/train/103.Mastiff/',\n",
       "  'dogImages/train/041.Bullmastiff/',\n",
       "  'dogImages/train/010.Anatolian_shepherd_dog/'],\n",
       " ['dogImages/train/103.Mastiff/',\n",
       "  'dogImages/train/041.Bullmastiff/',\n",
       "  'dogImages/train/121.Plott/']]"
      ]
     },
     "execution_count": 32,
     "metadata": {},
     "output_type": "execute_result"
    }
   ],
   "source": [
    "make_prediction(dog_names, resnet_model, np.load('tt50data.npz')['test'], m)"
   ]
  },
  {
   "cell_type": "code",
   "execution_count": 44,
   "metadata": {},
   "outputs": [
    {
     "data": {
      "text/plain": [
       "array([[[[ True, False, False, ..., False,  True, False]]],\n",
       "\n",
       "\n",
       "       [[[False, False, False, ..., False, False, False]]],\n",
       "\n",
       "\n",
       "       [[[False, False, False, ..., False, False, False]]],\n",
       "\n",
       "\n",
       "       ...,\n",
       "\n",
       "\n",
       "       [[[False, False, False, ..., False, False, False]]],\n",
       "\n",
       "\n",
       "       [[[False, False, False, ..., False, False, False]]],\n",
       "\n",
       "\n",
       "       [[[False, False, False, ..., False, False, False]]]])"
      ]
     },
     "execution_count": 44,
     "metadata": {},
     "output_type": "execute_result"
    }
   ],
   "source": [
    "np.load('tt50data.npz')['test'] == np.load('dog_feature.npz')['test']"
   ]
  },
  {
   "cell_type": "code",
   "execution_count": null,
   "metadata": {
    "collapsed": true
   },
   "outputs": [],
   "source": []
  }
 ],
 "metadata": {
  "kernelspec": {
   "display_name": "Python 3",
   "language": "python",
   "name": "python3"
  },
  "language_info": {
   "codemirror_mode": {
    "name": "ipython",
    "version": 3
   },
   "file_extension": ".py",
   "mimetype": "text/x-python",
   "name": "python",
   "nbconvert_exporter": "python",
   "pygments_lexer": "ipython3",
   "version": "3.6.3"
  }
 },
 "nbformat": 4,
 "nbformat_minor": 2
}
