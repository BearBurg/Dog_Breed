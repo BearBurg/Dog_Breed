{
 "cells": [
  {
   "cell_type": "markdown",
   "metadata": {},
   "source": [
    "# Dog breed classification"
   ]
  },
  {
   "cell_type": "markdown",
   "metadata": {},
   "source": [
    "## Data exploration"
   ]
  },
  {
   "cell_type": "code",
   "execution_count": 2,
   "metadata": {},
   "outputs": [
    {
     "name": "stderr",
     "output_type": "stream",
     "text": [
      "/Users/BearBurg/anaconda3/lib/python3.6/site-packages/h5py/__init__.py:34: FutureWarning: Conversion of the second argument of issubdtype from `float` to `np.floating` is deprecated. In future, it will be treated as `np.float64 == np.dtype(float).type`.\n",
      "  from ._conv import register_converters as _register_converters\n",
      "Using TensorFlow backend.\n"
     ]
    }
   ],
   "source": [
    "import csv\n",
    "import matplotlib.pylab as plt\n",
    "import os\n",
    "from keras.applications.resnet50 import ResNet50\n",
    "import numpy as np\n",
    "import PIL"
   ]
  },
  {
   "cell_type": "markdown",
   "metadata": {},
   "source": [
    "### Data distrubution"
   ]
  },
  {
   "cell_type": "markdown",
   "metadata": {},
   "source": [
    "### Load data"
   ]
  },
  {
   "cell_type": "code",
   "execution_count": 3,
   "metadata": {
    "collapsed": true
   },
   "outputs": [],
   "source": [
    "from keras.preprocessing import image \n",
    "from keras.layers import Conv2D, MaxPooling2D, GlobalAveragePooling2D\n",
    "from keras.layers import Dropout, Flatten, Dense\n",
    "from keras.models import Sequential\n",
    "from keras.regularizers import l2\n",
    "from keras.callbacks import Callback, EarlyStopping, ModelCheckpoint\n",
    "from sklearn.datasets import load_files       \n",
    "from keras.utils import np_utils\n",
    "from keras.applications import *\n",
    "from keras.models import Model\n",
    "from keras.preprocessing.image import ImageDataGenerator\n",
    "from keras.applications.resnet50 import ResNet50, preprocess_input\n",
    "from keras.applications.xception import Xception, preprocess_input\n",
    "import numpy as np\n",
    "from glob import glob\n",
    "from PIL import ImageFile  \n",
    "from tqdm import tqdm\n",
    "ImageFile.LOAD_TRUNCATED_IMAGES = True    \n",
    "from sklearn.datasets import load_files       \n",
    "from keras.utils import np_utils\n",
    "import numpy as np\n",
    "from glob import glob"
   ]
  },
  {
   "cell_type": "code",
   "execution_count": 4,
   "metadata": {
    "collapsed": true
   },
   "outputs": [],
   "source": [
    "def load_dataset(path):\n",
    "    data = load_files(path)\n",
    "    dog_files = np.array(data['filenames'])\n",
    "    dog_targets = np_utils.to_categorical(np.array(data['target']), 133)\n",
    "    return dog_files, dog_targets\n",
    "\n",
    "def path_to_tensor(img_path, size = 224):\n",
    "    img = image.load_img(img_path, target_size=(size, size))\n",
    "    x = image.img_to_array(img)\n",
    "    return np.expand_dims(x, axis=0)\n",
    "\n",
    "def paths_to_tensor(img_paths):\n",
    "    list_of_tensors = [path_to_tensor(img_path) for img_path in tqdm(img_paths)]\n",
    "    return np.vstack(list_of_tensors)"
   ]
  },
  {
   "cell_type": "markdown",
   "metadata": {},
   "source": [
    "### Global variables"
   ]
  },
  {
   "cell_type": "code",
   "execution_count": 5,
   "metadata": {},
   "outputs": [],
   "source": [
    "train_files_name = \"dogImages/train\"\n",
    "test_file_name = \"dogImages/test\"\n",
    "dog_names = [item for item in sorted(glob(train_files_name + \"/*/\"))]"
   ]
  },
  {
   "cell_type": "code",
   "execution_count": 6,
   "metadata": {},
   "outputs": [
    {
     "name": "stderr",
     "output_type": "stream",
     "text": [
      "100%|██████████| 6680/6680 [02:23<00:00, 46.56it/s] \n",
      "100%|██████████| 836/836 [00:13<00:00, 62.26it/s] \n"
     ]
    }
   ],
   "source": [
    "# load data\n",
    "train_files, train_targets = load_dataset(train_files_name)\n",
    "test_files, test_targets = load_dataset(test_file_name)\n",
    "\n",
    "# parse tensors\n",
    "train_tensors = paths_to_tensor(train_files)\n",
    "test_tensors = paths_to_tensor(test_files)"
   ]
  },
  {
   "cell_type": "markdown",
   "metadata": {},
   "source": [
    "## CNN from scratch"
   ]
  },
  {
   "cell_type": "markdown",
   "metadata": {},
   "source": [
    "### Model"
   ]
  },
  {
   "cell_type": "markdown",
   "metadata": {},
   "source": [
    "### Accuracy"
   ]
  },
  {
   "cell_type": "markdown",
   "metadata": {},
   "source": [
    "## Transfer learning"
   ]
  },
  {
   "cell_type": "markdown",
   "metadata": {},
   "source": [
    "### Extract features from ResNet50"
   ]
  },
  {
   "cell_type": "code",
   "execution_count": 7,
   "metadata": {
    "collapsed": true
   },
   "outputs": [],
   "source": [
    "from PIL import ImageFile                            \n",
    "ImageFile.LOAD_TRUNCATED_IMAGES = True"
   ]
  },
  {
   "cell_type": "code",
   "execution_count": 8,
   "metadata": {
    "collapsed": true
   },
   "outputs": [],
   "source": [
    "def extract_Resnet50(tensor):\n",
    "    return ResNet50(weights='imagenet', include_top=False, pooling=\"avg\").predict(preprocess_input(tensor))"
   ]
  },
  {
   "cell_type": "code",
   "execution_count": 14,
   "metadata": {
    "collapsed": true
   },
   "outputs": [],
   "source": [
    "def expand_dimensions(f):\n",
    "    f = np.expand_dims(f, axis=1)\n",
    "    f = np.expand_dims(f, axis=1)\n",
    "    return f"
   ]
  },
  {
   "cell_type": "code",
   "execution_count": null,
   "metadata": {
    "collapsed": true
   },
   "outputs": [],
   "source": [
    "# extract feature\n",
    "train_features_resnet50 = extract_Resnet50(train_tensors)\n",
    "test_features_resnet50 = extract_Resnet50(test_tensors)\n",
    "\n",
    "# expand dimensions\n",
    "train_features_resnet50 = expand_dimensions(train_features_resnet50)\n",
    "test_features_resnet50 = expand_dimensions(test_tensors)\n",
    "\n",
    "# save as npz file\n",
    "np.savez_compressed('resnet50data',test=test_features_resnet50, train = train_features_resnet50)"
   ]
  },
  {
   "cell_type": "code",
   "execution_count": 15,
   "metadata": {},
   "outputs": [],
   "source": [
    "resnet50Data = np.load('resnet50data.npz')\n",
    "resnet50Train = resnet50Data['train']\n",
    "resnet50Test = resnet50Data['test']\n",
    "resnet50Train = expand_dimensions(resnet50Train)\n",
    "resnet50Test = expand_dimensions(resnet50Test)"
   ]
  },
  {
   "cell_type": "markdown",
   "metadata": {},
   "source": [
    "### Train model"
   ]
  },
  {
   "cell_type": "code",
   "execution_count": 11,
   "metadata": {
    "collapsed": true
   },
   "outputs": [],
   "source": [
    "def tranfer_learning(trainingData, trainLabels, length):\n",
    "    model = Sequential()\n",
    "    model.add(GlobalAveragePooling2D(input_shape=trainingData.shape[1:]))\n",
    "    model.add(Dense(1000, activation='relu'))\n",
    "    model.add(Dropout(0.5))\n",
    "    model.add(Dense(length, activation='softmax'))\n",
    "\n",
    "    model.summary()\n",
    "    model.compile(loss='categorical_crossentropy', optimizer='rmsprop', metrics=['accuracy'])\n",
    "\n",
    "    model.fit(trainingData, trainLabels, epochs=10, batch_size=20, verbose=1)\n",
    "    return model"
   ]
  },
  {
   "cell_type": "code",
   "execution_count": null,
   "metadata": {},
   "outputs": [
    {
     "name": "stdout",
     "output_type": "stream",
     "text": [
      "_________________________________________________________________\n",
      "Layer (type)                 Output Shape              Param #   \n",
      "=================================================================\n",
      "global_average_pooling2d_2 ( (None, 2048)              0         \n",
      "_________________________________________________________________\n",
      "dense_1 (Dense)              (None, 1000)              2049000   \n",
      "_________________________________________________________________\n",
      "dropout_1 (Dropout)          (None, 1000)              0         \n",
      "_________________________________________________________________\n",
      "dense_2 (Dense)              (None, 133)               133133    \n",
      "=================================================================\n",
      "Total params: 2,182,133\n",
      "Trainable params: 2,182,133\n",
      "Non-trainable params: 0\n",
      "_________________________________________________________________\n",
      "Epoch 1/10\n",
      "5100/6680 [=====================>........] - ETA: 2s - loss: 2.7266 - acc: 0.3831"
     ]
    }
   ],
   "source": [
    "resnet_model = tranfer_learning(resnet50Train, train_targets, len(dog_names))"
   ]
  },
  {
   "cell_type": "markdown",
   "metadata": {},
   "source": [
    "### Test accuracy"
   ]
  },
  {
   "cell_type": "code",
   "execution_count": null,
   "metadata": {
    "collapsed": true
   },
   "outputs": [],
   "source": [
    "def calculate_accuracy(model, testData, testLabel, m):\n",
    "    i = 0\n",
    "    a = 0\n",
    "    for test in testData:\n",
    "        arr = model.predict(np.expand_dims(test,axis = 0))\n",
    "        idx = np.argsort(-arr[0])[:m]\n",
    "        if np.argmax(testLabel[i]) in idx:\n",
    "            a += 1\n",
    "        i += 1\n",
    "    return a/len(testLabel)"
   ]
  },
  {
   "cell_type": "code",
   "execution_count": null,
   "metadata": {
    "collapsed": true
   },
   "outputs": [],
   "source": [
    "# test accuracy\n",
    "m = 3\n",
    "acc = calculate_accuracy(resnet_model, resnet50Test, test_labels, m)"
   ]
  },
  {
   "cell_type": "markdown",
   "metadata": {},
   "source": [
    "## Prediction"
   ]
  },
  {
   "cell_type": "code",
   "execution_count": null,
   "metadata": {
    "collapsed": true
   },
   "outputs": [],
   "source": [
    "def make_prediction(dog_names, model, testData, m):\n",
    "    labelList = []\n",
    "    \n",
    "    for test in testData:\n",
    "        arr = model.predict(np.expand_dims(test,axis = 0))\n",
    "        idx = np.argsort(-arr[0])[:m]\n",
    "        print(idx)\n",
    "        l = [dog_names[index] for index in idx]\n",
    "        labelList.append(l)\n",
    "        \n",
    "    return labelList"
   ]
  },
  {
   "cell_type": "code",
   "execution_count": null,
   "metadata": {
    "collapsed": true
   },
   "outputs": [],
   "source": [
    "import matplotlib.image as mpimg\n",
    "import matplotlib.pyplot as plt \n",
    "\n",
    "def show_sample(name):\n",
    "    pp, ax = plt.subplots()\n",
    "    print(name[4:])\n",
    "    path = \"dogImages/train/{0}/*\".format(name)\n",
    "    \n",
    "    path = glob(path)[0]\n",
    "    \n",
    "    img = mpimg.imread(path)\n",
    "    pp = ax.imshow(img)        \n",
    "    plt.axis('off')\n",
    "    plt.show()"
   ]
  },
  {
   "cell_type": "code",
   "execution_count": null,
   "metadata": {
    "collapsed": true
   },
   "outputs": [],
   "source": [
    "def preprocess(path, npz_name):\n",
    "    files, targets = load_dataset(path)\n",
    "    tensors = paths_to_tensor(files)\n",
    "    features_resnet50 = extract_Resnet50(tensors)\n",
    "    features_resnet50 = expand_dimensions(features_resnet50)\n",
    "    \n",
    "    np.savez_compressed(npz_name ,test=features_resnet50)\n"
   ]
  },
  {
   "cell_type": "code",
   "execution_count": null,
   "metadata": {
    "collapsed": true
   },
   "outputs": [],
   "source": [
    "def resnet50_predictor(path, name, model, m=3):\n",
    "    preprocess(path, name)\n",
    "    \n",
    "    features = np.load(name + \".npz\")['test']\n",
    "    make_prediction(dog_names, model, features, m)"
   ]
  },
  {
   "cell_type": "code",
   "execution_count": null,
   "metadata": {
    "collapsed": true
   },
   "outputs": [],
   "source": [
    "dog_dir = \"testImage/test\"\n",
    "resnet50_predictor(dog_dir , 'dog_feature', resnet_model)"
   ]
  }
 ],
 "metadata": {
  "kernelspec": {
   "display_name": "Python 3",
   "language": "python",
   "name": "python3"
  },
  "language_info": {
   "codemirror_mode": {
    "name": "ipython",
    "version": 3
   },
   "file_extension": ".py",
   "mimetype": "text/x-python",
   "name": "python",
   "nbconvert_exporter": "python",
   "pygments_lexer": "ipython3",
   "version": "3.6.3"
  }
 },
 "nbformat": 4,
 "nbformat_minor": 2
}
