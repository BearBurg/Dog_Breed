{
 "cells": [
  {
   "cell_type": "markdown",
   "metadata": {},
   "source": [
    "# Dog Breed"
   ]
  },
  {
   "cell_type": "markdown",
   "metadata": {},
   "source": [
    "## Data exploration"
   ]
  },
  {
   "cell_type": "code",
   "execution_count": 16,
   "metadata": {
    "collapsed": true
   },
   "outputs": [],
   "source": [
    "import csv\n",
    "import matplotlib.pylab as plt\n",
    "import os\n",
    "from keras.applications.resnet50 import ResNet50\n",
    "import numpy as np\n",
    "import PIL"
   ]
  },
  {
   "cell_type": "code",
   "execution_count": null,
   "metadata": {
    "scrolled": false
   },
   "outputs": [],
   "source": [
    "image_label = {}\n",
    "with open('dataset/labels.csv') as csv_file:\n",
    "    reader = csv.reader(csv_file, delimiter=',')\n",
    "    for row in reader:\n",
    "        image_name = row[0]\n",
    "        label = row[1]\n",
    "        \n",
    "        if label == 'breed':\n",
    "            continue\n",
    "        \n",
    "        if label not in image_label:\n",
    "            image_label[label] = set()\n",
    "            \n",
    "        image_label[label].add(image_name)\n",
    "\n",
    "\n",
    "# sorted_dict = sorted(image_label.keys())\n",
    "# print(sorted_dict)\n",
    "    "
   ]
  },
  {
   "cell_type": "code",
   "execution_count": null,
   "metadata": {},
   "outputs": [],
   "source": [
    "label_dist = {}\n",
    "for k,v in image_label.items():\n",
    "    label_dist[k] = len(v)\n",
    "\n",
    "sorted_image_label = sorted(label_dist.items()) # sorted by key, return a list of tuples\n",
    "\n",
    "print(sorted_image_label)\n",
    "\n",
    "l, c = list(label_dist.keys()), list(label_dist.values())\n",
    "\n",
    "\n",
    "plt.figure(figsize=(30,70))\n",
    "plt.barh(l,c)\n",
    " \n",
    "plt.show()\n"
   ]
  },
  {
   "cell_type": "code",
   "execution_count": 2,
   "metadata": {
    "collapsed": true
   },
   "outputs": [],
   "source": [
    "def get_test_label(path):\n",
    "    labels = []\n",
    "    for foldername in os.listdir(path):\n",
    "#         print(foldername)\n",
    "        if foldername != '.DS_Store':\n",
    "            names = foldername.split('-')\n",
    "            l = len(names)\n",
    "            label = names[1]\n",
    "            for i in range(2,l):\n",
    "                label += '-' + names[i]\n",
    "            labels.append(label)\n",
    "    return labels"
   ]
  },
  {
   "cell_type": "code",
   "execution_count": null,
   "metadata": {},
   "outputs": [],
   "source": [
    "labels = get_test_label('Images')\n",
    "labels.sort()\n",
    "print(labels)"
   ]
  },
  {
   "cell_type": "code",
   "execution_count": 10,
   "metadata": {
    "collapsed": true
   },
   "outputs": [],
   "source": [
    "#all/train\n",
    "def image_size(train_dir):\n",
    "    width = []\n",
    "    height = []\n",
    "    for image_dir in os.listdir(train_dir):\n",
    "        if image_dir != '.DS_Store':\n",
    "            image = PIL.Image.open(train_dir + '/' + image_dir)\n",
    "            width.append(image.size[0])\n",
    "            height.append(image.size[1])\n",
    "    return width,height"
   ]
  },
  {
   "cell_type": "code",
   "execution_count": 11,
   "metadata": {},
   "outputs": [
    {
     "name": "stdout",
     "output_type": "stream",
     "text": [
      "97\n",
      "3264\n"
     ]
    }
   ],
   "source": [
    "width,height = image_size('dataset/train')"
   ]
  },
  {
   "cell_type": "code",
   "execution_count": 39,
   "metadata": {},
   "outputs": [
    {
     "name": "stdout",
     "output_type": "stream",
     "text": [
      "10222\n"
     ]
    }
   ],
   "source": [
    "print(len(width))"
   ]
  },
  {
   "cell_type": "code",
   "execution_count": 23,
   "metadata": {},
   "outputs": [
    {
     "data": {
      "image/png": "[encoded data removed]",
      "text/plain": [
       "<Figure size 432x288 with 1 Axes>"
      ]
     },
     "metadata": {},
     "output_type": "display_data"
    }
   ],
   "source": [
    "width.sort()\n",
    "l, c = list(range(len(width))), width\n",
    "plt.ylim(0,1500)\n",
    "# plt.figure(figsize=(30,70))\n",
    "plt.bar(l,c)\n",
    "plt.show()"
   ]
  },
  {
   "cell_type": "code",
   "execution_count": 25,
   "metadata": {},
   "outputs": [
    {
     "data": {
      "image/png": "[encoded data removed]",
      "text/plain": [
       "<Figure size 432x288 with 1 Axes>"
      ]
     },
     "metadata": {},
     "output_type": "display_data"
    }
   ],
   "source": [
    "height.sort()\n",
    "l, c = list(range(len(height))), height\n",
    "plt.ylim(0,1500)\n",
    "# plt.figure(figsize=(30,70))\n",
    "plt.bar(l,c)\n",
    "plt.show()"
   ]
  },
  {
   "cell_type": "code",
   "execution_count": 320,
   "metadata": {},
   "outputs": [],
   "source": [
    "from keras.preprocessing import image \n",
    "from keras.layers import Conv2D, MaxPooling2D, GlobalAveragePooling2D\n",
    "from keras.layers import Dropout, Flatten, Dense\n",
    "from keras.models import Sequential\n",
    "from keras.regularizers import l2\n",
    "from keras.callbacks import Callback, EarlyStopping, ModelCheckpoint\n",
    "from sklearn.datasets import load_files       \n",
    "from keras.utils import np_utils\n",
    "from keras.applications import *\n",
    "from keras.models import Model\n",
    "from keras.preprocessing.image import ImageDataGenerator\n",
    "from keras.applications.resnet50 import ResNet50, preprocess_input\n",
    "from keras.applications.xception import Xception, preprocess_input\n",
    "import numpy as np\n",
    "from glob import glob\n",
    "from PIL import ImageFile  \n",
    "from tqdm import tqdm\n",
    "ImageFile.LOAD_TRUNCATED_IMAGES = True    \n",
    "from sklearn.datasets import load_files       \n",
    "from keras.utils import np_utils\n",
    "import numpy as np\n",
    "from glob import glob"
   ]
  },
  {
   "cell_type": "code",
   "execution_count": 198,
   "metadata": {},
   "outputs": [],
   "source": [
    "def load_dataset(path):\n",
    "    data = load_files(path)\n",
    "    dog_files = np.array(data['filenames'])\n",
    "    dog_targets = np_utils.to_categorical(np.array(data['target']), 133)\n",
    "    return dog_files, dog_targets\n",
    "def path_to_tensor(img_path):\n",
    "    # loads RGB image as PIL.Image.Image type\n",
    "    img = image.load_img(img_path, target_size=(224, 224))\n",
    "    # convert PIL.Image.Image type to 3D tensor with shape (224, 224, 3)\n",
    "    x = image.img_to_array(img)\n",
    "    # convert 3D tensor to 4D tensor with shape (1, 224, 224, 3) and return 4D tensor\n",
    "    return np.expand_dims(x, axis=0)\n",
    "\n",
    "def paths_to_tensor(img_paths):\n",
    "    list_of_tensors = [path_to_tensor(img_path) for img_path in tqdm(img_paths)]\n",
    "    return np.vstack(list_of_tensors)"
   ]
  },
  {
   "cell_type": "code",
   "execution_count": 105,
   "metadata": {
    "scrolled": false
   },
   "outputs": [
    {
     "name": "stderr",
     "output_type": "stream",
     "text": [
      "100%|██████████| 870/870 [00:05<00:00, 165.70it/s]\n",
      "100%|██████████| 1739/1739 [00:08<00:00, 211.34it/s]\n"
     ]
    }
   ],
   "source": [
    "train_files, train_labels = load_dataset('dataset_small/train')\n",
    "train_tensors = paths_to_tensor(train_files).astype('float32')/255\n",
    "test_files, test_labels = load_dataset('dataset_small/test')\n",
    "test_tensors = paths_to_tensor(test_files).astype('float32')/255"
   ]
  },
  {
   "cell_type": "code",
   "execution_count": 29,
   "metadata": {},
   "outputs": [],
   "source": [
    "xceptionData = np.load('DogXceptionData.npz')\n",
    "xceptionTrain = xceptionData['train']\n",
    "# xceptionValid = xceptionData['valid']\n",
    "xceptionTest = xceptionData['test']"
   ]
  },
  {
   "cell_type": "code",
   "execution_count": 219,
   "metadata": {},
   "outputs": [],
   "source": [
    "resnet50Data = np.load('DogResnet50Data.npz')\n",
    "resnet50Train = resnet50Data['train']\n",
    "resnet50Test = resnet50Data['test']"
   ]
  },
  {
   "cell_type": "code",
   "execution_count": 254,
   "metadata": {},
   "outputs": [],
   "source": [
    "resnet50Data_1 = np.load('resnet50data.npz')\n",
    "resnet50Train_1 = resnet50Data['train']\n",
    "resnet50Test_1 = resnet50Data['test']"
   ]
  },
  {
   "cell_type": "code",
   "execution_count": 168,
   "metadata": {},
   "outputs": [],
   "source": [
    "def extract_Xception(tensor):\n",
    "    return Xception(weights='imagenet', include_top=False).predict(preprocess_input(tensor))"
   ]
  },
  {
   "cell_type": "code",
   "execution_count": 194,
   "metadata": {},
   "outputs": [],
   "source": [
    "def Xception_transfer_learning(train_Xception,train_targets,length):\n",
    "    Xception_model = Sequential()\n",
    "    Xception_model.add(GlobalAveragePooling2D(input_shape=train_Xception.shape[1:]))\n",
    "    Xception_model.add(Dense(512, activation='relu'))\n",
    "    Xception_model.add(Dropout(0.5))\n",
    "    Xception_model.add(Dense(length, activation='softmax'))\n",
    "\n",
    "    Xception_model.summary()\n",
    "    Xception_model.compile(loss='categorical_crossentropy', optimizer='rmsprop', metrics=['accuracy'])\n",
    "    checkpointer = ModelCheckpoint(filepath='saved_models/weights.best.Xception.hdf5', \n",
    "                               verbose=1, save_best_only=True)\n",
    "\n",
    "    early_stop = EarlyStopping(monitor='val_loss', min_delta=0.005, patience=5, verbose=0, mode='auto')\n",
    "\n",
    "    Xception_model.fit(train_Xception, train_targets,epochs=20, batch_size=40, callbacks=[checkpointer, early_stop], verbose=1)\n",
    "    return Xception_model "
   ]
  },
  {
   "cell_type": "code",
   "execution_count": 199,
   "metadata": {},
   "outputs": [],
   "source": [
    "f, labels = load_dataset('dogImages/train')"
   ]
  },
  {
   "cell_type": "code",
   "execution_count": 216,
   "metadata": {},
   "outputs": [],
   "source": [
    "test_f, test_labels = load_dataset('dogImages/test')"
   ]
  },
  {
   "cell_type": "code",
   "execution_count": 200,
   "metadata": {
    "scrolled": true
   },
   "outputs": [
    {
     "name": "stdout",
     "output_type": "stream",
     "text": [
      "_________________________________________________________________\n",
      "Layer (type)                 Output Shape              Param #   \n",
      "=================================================================\n",
      "global_average_pooling2d_23  (None, 2048)              0         \n",
      "_________________________________________________________________\n",
      "dense_31 (Dense)             (None, 512)               1049088   \n",
      "_________________________________________________________________\n",
      "dense_32 (Dense)             (None, 133)               68229     \n",
      "=================================================================\n",
      "Total params: 1,117,317\n",
      "Trainable params: 1,117,317\n",
      "Non-trainable params: 0\n",
      "_________________________________________________________________\n",
      "Epoch 1/20\n",
      "6680/6680 [==============================] - 37s 6ms/step - loss: 1.1829 - acc: 0.7018\n",
      "Epoch 2/20\n",
      " 120/6680 [..............................] - ETA: 11s - loss: 0.3975 - acc: 0.8583"
     ]
    },
    {
     "name": "stderr",
     "output_type": "stream",
     "text": [
      "/anaconda3/lib/python3.6/site-packages/keras/callbacks.py:434: RuntimeWarning: Can save best model only with val_loss available, skipping.\n",
      "  'skipping.' % (self.monitor), RuntimeWarning)\n",
      "/anaconda3/lib/python3.6/site-packages/keras/callbacks.py:569: RuntimeWarning: Early stopping conditioned on metric `val_loss` which is not available. Available metrics are: loss,acc\n",
      "  (self.monitor, ','.join(list(logs.keys()))), RuntimeWarning\n"
     ]
    },
    {
     "name": "stdout",
     "output_type": "stream",
     "text": [
      "6680/6680 [==============================] - 8s 1ms/step - loss: 0.4594 - acc: 0.8558\n",
      "Epoch 3/20\n",
      "6680/6680 [==============================] - 5s 822us/step - loss: 0.3172 - acc: 0.8930\n",
      "Epoch 4/20\n",
      "6680/6680 [==============================] - 6s 827us/step - loss: 0.2310 - acc: 0.9223\n",
      "Epoch 5/20\n",
      "6680/6680 [==============================] - 5s 810us/step - loss: 0.1802 - acc: 0.9394\n",
      "Epoch 6/20\n",
      "6680/6680 [==============================] - 5s 820us/step - loss: 0.1345 - acc: 0.9530\n",
      "Epoch 7/20\n",
      "6680/6680 [==============================] - 5s 814us/step - loss: 0.1164 - acc: 0.9632\n",
      "Epoch 8/20\n",
      "6680/6680 [==============================] - 6s 844us/step - loss: 0.0908 - acc: 0.9692\n",
      "Epoch 9/20\n",
      "6680/6680 [==============================] - 6s 837us/step - loss: 0.0748 - acc: 0.9759\n",
      "Epoch 10/20\n",
      "6680/6680 [==============================] - 6s 935us/step - loss: 0.0646 - acc: 0.9790\n",
      "Epoch 11/20\n",
      "6680/6680 [==============================] - 6s 972us/step - loss: 0.0678 - acc: 0.9793\n",
      "Epoch 12/20\n",
      "6680/6680 [==============================] - 7s 1ms/step - loss: 0.0493 - acc: 0.9814\n",
      "Epoch 13/20\n",
      "6680/6680 [==============================] - 6s 919us/step - loss: 0.0423 - acc: 0.9871\n",
      "Epoch 14/20\n",
      "6680/6680 [==============================] - 6s 914us/step - loss: 0.0385 - acc: 0.9882\n",
      "Epoch 15/20\n",
      "6680/6680 [==============================] - 6s 940us/step - loss: 0.0343 - acc: 0.9915\n",
      "Epoch 16/20\n",
      "6680/6680 [==============================] - 6s 953us/step - loss: 0.0405 - acc: 0.9897\n",
      "Epoch 17/20\n",
      "6680/6680 [==============================] - 6s 859us/step - loss: 0.0335 - acc: 0.9916 1s - loss:\n",
      "Epoch 18/20\n",
      "6680/6680 [==============================] - 6s 886us/step - loss: 0.0277 - acc: 0.9931\n",
      "Epoch 19/20\n",
      "6680/6680 [==============================] - 6s 946us/step - loss: 0.0333 - acc: 0.9922\n",
      "Epoch 20/20\n",
      "6680/6680 [==============================] - 7s 973us/step - loss: 0.0296 - acc: 0.9937\n"
     ]
    }
   ],
   "source": [
    "Xception_model = Xception_transfer_learning(xceptionTrain,labels,133)"
   ]
  },
  {
   "cell_type": "code",
   "execution_count": 261,
   "metadata": {},
   "outputs": [],
   "source": [
    "def tranfer_learning(trainingData,trainLabels,length):\n",
    "    model = Sequential()\n",
    "    model.add(GlobalAveragePooling2D(input_shape=trainingData.shape[1:]))\n",
    "#     model.add(Dense(512, activation='relu'))\n",
    "#     model.add(Dropout(0.7))\n",
    "    model.add(Dense(length, activation='softmax'))\n",
    "\n",
    "    model.summary()\n",
    "    model.compile(loss='categorical_crossentropy', optimizer='rmsprop', metrics=['accuracy'])\n",
    "#     checkpointer = ModelCheckpoint(filepath='saved_models/weights.best.Xception.hdf5', \n",
    "#                                verbose=1, save_best_only=True)\n",
    "\n",
    "#     early_stop = EarlyStopping(monitor='val_loss', min_delta=0.005, patience=5, verbose=0, mode='auto')\n",
    "\n",
    "    model.fit(trainingData, trainLabels, epochs=20, batch_size=40, verbose=1)\n",
    "    return model"
   ]
  },
  {
   "cell_type": "code",
   "execution_count": 259,
   "metadata": {
    "scrolled": true
   },
   "outputs": [
    {
     "name": "stdout",
     "output_type": "stream",
     "text": [
      "_________________________________________________________________\n",
      "Layer (type)                 Output Shape              Param #   \n",
      "=================================================================\n",
      "global_average_pooling2d_35  (None, 2048)              0         \n",
      "_________________________________________________________________\n",
      "dense_47 (Dense)             (None, 133)               272517    \n",
      "=================================================================\n",
      "Total params: 272,517\n",
      "Trainable params: 272,517\n",
      "Non-trainable params: 0\n",
      "_________________________________________________________________\n",
      "Epoch 1/20\n",
      "6680/6680 [==============================] - 23s 3ms/step - loss: 1.8492 - acc: 0.5731\n",
      "Epoch 2/20\n",
      "6680/6680 [==============================] - 3s 408us/step - loss: 0.4852 - acc: 0.8555\n",
      "Epoch 3/20\n",
      "6680/6680 [==============================] - 3s 429us/step - loss: 0.2724 - acc: 0.9228\n",
      "Epoch 4/20\n",
      "6680/6680 [==============================] - 3s 416us/step - loss: 0.1694 - acc: 0.9507\n",
      "Epoch 5/20\n",
      "6680/6680 [==============================] - 3s 465us/step - loss: 0.1109 - acc: 0.9731 0s - loss: 0.1088 - acc: 0\n",
      "Epoch 6/20\n",
      "6680/6680 [==============================] - 3s 447us/step - loss: 0.0719 - acc: 0.9819\n",
      "Epoch 7/20\n",
      "6680/6680 [==============================] - 3s 439us/step - loss: 0.0512 - acc: 0.9888\n",
      "Epoch 8/20\n",
      "6680/6680 [==============================] - 3s 387us/step - loss: 0.0360 - acc: 0.9928\n",
      "Epoch 9/20\n",
      "6680/6680 [==============================] - 3s 380us/step - loss: 0.0264 - acc: 0.9946\n",
      "Epoch 10/20\n",
      "6680/6680 [==============================] - 3s 383us/step - loss: 0.0208 - acc: 0.9961\n",
      "Epoch 11/20\n",
      "6680/6680 [==============================] - 3s 386us/step - loss: 0.0153 - acc: 0.9978\n",
      "Epoch 12/20\n",
      "6680/6680 [==============================] - 3s 429us/step - loss: 0.0119 - acc: 0.9973\n",
      "Epoch 13/20\n",
      "6680/6680 [==============================] - 3s 473us/step - loss: 0.0091 - acc: 0.9981\n",
      "Epoch 14/20\n",
      "6680/6680 [==============================] - 2s 374us/step - loss: 0.0082 - acc: 0.9988\n",
      "Epoch 15/20\n",
      "6680/6680 [==============================] - 3s 398us/step - loss: 0.0066 - acc: 0.9987\n",
      "Epoch 16/20\n",
      "6680/6680 [==============================] - 3s 436us/step - loss: 0.0057 - acc: 0.9982\n",
      "Epoch 17/20\n",
      "6680/6680 [==============================] - 3s 404us/step - loss: 0.0043 - acc: 0.9990\n",
      "Epoch 18/20\n",
      "6680/6680 [==============================] - 3s 461us/step - loss: 0.0043 - acc: 0.9988\n",
      "Epoch 19/20\n",
      "6680/6680 [==============================] - 3s 382us/step - loss: 0.0048 - acc: 0.9985\n",
      "Epoch 20/20\n",
      "6680/6680 [==============================] - 3s 378us/step - loss: 0.0049 - acc: 0.9988\n"
     ]
    }
   ],
   "source": [
    "restnet_model = tranfer_learning(resnet50Train,labels,133)"
   ]
  },
  {
   "cell_type": "code",
   "execution_count": 260,
   "metadata": {
    "scrolled": true
   },
   "outputs": [
    {
     "name": "stdout",
     "output_type": "stream",
     "text": [
      "83.2535885167464\n"
     ]
    }
   ],
   "source": [
    "res50 = [np.argmax(restnet_model.predict(np.expand_dims(test,axis = 0))) for test in resnet50Test]\n",
    "accuracy_resnet = 100* np.sum(res50 == np.argmax(test_labels, axis = 1))/len(test_labels)\n",
    "print(accuracy_resnet)"
   ]
  },
  {
   "cell_type": "code",
   "execution_count": 262,
   "metadata": {},
   "outputs": [
    {
     "name": "stdout",
     "output_type": "stream",
     "text": [
      "_________________________________________________________________\n",
      "Layer (type)                 Output Shape              Param #   \n",
      "=================================================================\n",
      "global_average_pooling2d_36  (None, 2048)              0         \n",
      "_________________________________________________________________\n",
      "dense_48 (Dense)             (None, 133)               272517    \n",
      "=================================================================\n",
      "Total params: 272,517\n",
      "Trainable params: 272,517\n",
      "Non-trainable params: 0\n",
      "_________________________________________________________________\n",
      "Epoch 1/20\n",
      "6680/6680 [==============================] - 21s 3ms/step - loss: 1.8530 - acc: 0.5540\n",
      "Epoch 2/20\n",
      "6680/6680 [==============================] - 3s 375us/step - loss: 0.4741 - acc: 0.8635\n",
      "Epoch 3/20\n",
      "6680/6680 [==============================] - 3s 383us/step - loss: 0.2718 - acc: 0.9213\n",
      "Epoch 4/20\n",
      "6680/6680 [==============================] - 3s 382us/step - loss: 0.1633 - acc: 0.9533\n",
      "Epoch 5/20\n",
      "6680/6680 [==============================] - 3s 384us/step - loss: 0.1082 - acc: 0.9708\n",
      "Epoch 6/20\n",
      "6680/6680 [==============================] - 3s 379us/step - loss: 0.0747 - acc: 0.9829\n",
      "Epoch 7/20\n",
      "6680/6680 [==============================] - 3s 382us/step - loss: 0.0509 - acc: 0.9882\n",
      "Epoch 8/20\n",
      "6680/6680 [==============================] - 3s 423us/step - loss: 0.0358 - acc: 0.9937\n",
      "Epoch 9/20\n",
      "6680/6680 [==============================] - 3s 390us/step - loss: 0.0272 - acc: 0.9945\n",
      "Epoch 10/20\n",
      "6680/6680 [==============================] - 3s 478us/step - loss: 0.0190 - acc: 0.9972\n",
      "Epoch 11/20\n",
      "6680/6680 [==============================] - 3s 435us/step - loss: 0.0154 - acc: 0.9976\n",
      "Epoch 12/20\n",
      "6680/6680 [==============================] - 3s 506us/step - loss: 0.0114 - acc: 0.9982\n",
      "Epoch 13/20\n",
      "6680/6680 [==============================] - 4s 609us/step - loss: 0.0094 - acc: 0.9984\n",
      "Epoch 14/20\n",
      "6680/6680 [==============================] - 3s 410us/step - loss: 0.0083 - acc: 0.9981\n",
      "Epoch 15/20\n",
      "6680/6680 [==============================] - 3s 422us/step - loss: 0.0073 - acc: 0.9987\n",
      "Epoch 16/20\n",
      "6680/6680 [==============================] - 3s 430us/step - loss: 0.0055 - acc: 0.9985\n",
      "Epoch 17/20\n",
      "6680/6680 [==============================] - 3s 403us/step - loss: 0.0051 - acc: 0.9987\n",
      "Epoch 18/20\n",
      "6680/6680 [==============================] - 3s 444us/step - loss: 0.0051 - acc: 0.9985\n",
      "Epoch 19/20\n",
      "6680/6680 [==============================] - 3s 381us/step - loss: 0.0043 - acc: 0.9987\n",
      "Epoch 20/20\n",
      "6680/6680 [==============================] - 3s 385us/step - loss: 0.0040 - acc: 0.9990\n"
     ]
    }
   ],
   "source": [
    "resnet_model1 = tranfer_learning(resnet50Train_1,labels,133)"
   ]
  },
  {
   "cell_type": "code",
   "execution_count": 263,
   "metadata": {},
   "outputs": [
    {
     "name": "stdout",
     "output_type": "stream",
     "text": [
      "82.41626794258373\n"
     ]
    }
   ],
   "source": [
    "res1 = [np.argmax(resnet_model1.predict(np.expand_dims(test,axis = 0))) for test in resnet50Test_1]\n",
    "accuracy_resnet = 100* np.sum(res1 == np.argmax(test_labels, axis = 1))/len(test_labels)\n",
    "print(accuracy_resnet)"
   ]
  },
  {
   "cell_type": "code",
   "execution_count": 331,
   "metadata": {},
   "outputs": [],
   "source": [
    "def calculate_accuracy(model,testData,testLabel,m):\n",
    "    i = 0\n",
    "    a = 0\n",
    "    for test in testData:\n",
    "        arr = model.predict(np.expand_dims(test,axis = 0))\n",
    "        idx = np.argsort(-arr[0])[:m]\n",
    "        if np.argmax(testLabel[i]) in idx:\n",
    "            a += 1\n",
    "        i += 1\n",
    "    return a/len(testLabel)"
   ]
  },
  {
   "cell_type": "code",
   "execution_count": 335,
   "metadata": {},
   "outputs": [
    {
     "name": "stdout",
     "output_type": "stream",
     "text": [
      "top 3 accuracy is: 0.9629186602870813\n"
     ]
    }
   ],
   "source": [
    "m = 3\n",
    "acc = calculate_accuracy(resnet_model1,resnet50Test_1,test_labels,m)\n",
    "print('top ' + str(m)+ ' accuracy is: ' + str(acc))"
   ]
  },
  {
   "cell_type": "code",
   "execution_count": 316,
   "metadata": {},
   "outputs": [],
   "source": [
    "def make_prediction(label_dir,model,test,m):\n",
    "    labelList = []\n",
    "    labels = [item[16:-1] for item in sorted(glob(label_dir))]\n",
    "#     print(labels)\n",
    "    arr = model.predict(np.expand_dims(test,axis = 0))\n",
    "    idx = np.argsort(-arr[0])[:m]\n",
    "    for index in idx:\n",
    "        labelList.append(labels[index])\n",
    "    return labelList"
   ]
  },
  {
   "cell_type": "code",
   "execution_count": 329,
   "metadata": {},
   "outputs": [
    {
     "name": "stdout",
     "output_type": "stream",
     "text": [
      "(1, 1, 2048)\n",
      "['101.Maltese', '024.Bichon_frise', '008.American_staffordshire_terrier', '091.Japanese_chin', '016.Beagle']\n"
     ]
    }
   ],
   "source": [
    "label_dir = \"dogImages/train/*/\"\n",
    "# test_dir = 'Images/n02086910-papillon/n02086910_695.jpg'\n",
    "test_dir = 'dogImages/test/015.Basset_hound/Basset_hound_01071.jpg'\n",
    "model = resnet_model1\n",
    "test = preprocess_input(path_to_tensor(test_dir))\n",
    "# print(test.shape)\n",
    "test = ResNet50(weights='imagenet', include_top=False,pooling = 'avg').predict(test)\n",
    "# test = resnet50Test_1[0]\n",
    "test = np.expand_dims(test,axis = 0)\n",
    "print(test.shape)\n",
    "m = 5\n",
    "labelList = make_prediction(label_dir,model,test,m)\n",
    "print(labelList)"
   ]
  },
  {
   "cell_type": "code",
   "execution_count": null,
   "metadata": {},
   "outputs": [],
   "source": []
  },
  {
   "cell_type": "code",
   "execution_count": null,
   "metadata": {},
   "outputs": [],
   "source": []
  },
  {
   "cell_type": "code",
   "execution_count": null,
   "metadata": {},
   "outputs": [],
   "source": []
  },
  {
   "cell_type": "code",
   "execution_count": null,
   "metadata": {},
   "outputs": [],
   "source": []
  },
  {
   "cell_type": "code",
   "execution_count": 103,
   "metadata": {},
   "outputs": [],
   "source": [
    "def transfer_learning_Xception(train_dir, batch_size,class_num,epoch = 10, samples_per_epoch = 100, transformation_ratio = .05):\n",
    "    xception_width = 299\n",
    "    xception_height = 299\n",
    "#     class_num = 10\n",
    "    base_model = Xception(input_shape=(xception_width, xception_height, 3), weights='imagenet', include_top=False)\n",
    "\n",
    "    # Top Model Block\n",
    "    x = base_model.output\n",
    "    x = GlobalAveragePooling2D()(x)\n",
    "    predictions = Dense(class_num, activation='softmax')(x)\n",
    "\n",
    "    # add your top layer block to base model\n",
    "    model = Model(base_model.input, predictions)\n",
    "#     print(model.summary())\n",
    "    for layer in base_model.layers:\n",
    "        layer.trainable = False \n",
    "#     train_datagen = ImageDataGenerator(rescale=1. / 255,\n",
    "#                                        rotation_range=transformation_ratio,\n",
    "#                                        shear_range=transformation_ratio,\n",
    "#                                        zoom_range=transformation_ratio,\n",
    "#                                        cval=transformation_ratio,\n",
    "#                                        horizontal_flip=True,\n",
    "#                                        vertical_flip=True)\n",
    "    train_datagen = ImageDataGenerator(rescale=1. / 255)\n",
    "\n",
    "#     validation_datagen = ImageDataGenerator(rescale=1. / 255)\n",
    "    train_generator = train_datagen.flow_from_directory(train_dir,\n",
    "                                                        target_size=(xception_width, xception_height),\n",
    "                                                        batch_size=batch_size,\n",
    "                                                        class_mode='categorical')\n",
    "    filenames = train_generator.filenames\n",
    "    nb_sample = len(filenames)\n",
    "    print(nb_sample)\n",
    "    model.compile(optimizer='nadam',\n",
    "                  loss='categorical_crossentropy',  # categorical_crossentropy if multi-class classifier\n",
    "                  metrics=['accuracy'])\n",
    "    checkpointer = ModelCheckpoint(filepath='saved_models/weights.best.Xception.hdf5', \n",
    "                               verbose=1, save_best_only=True)\n",
    "\n",
    "    early_stop = EarlyStopping(monitor='val_loss', min_delta=0.005, patience=5, verbose=0, mode='auto')\n",
    "    model.fit_generator(train_generator,\n",
    "                        samples_per_epoch=100,\n",
    "                        nb_epoch = epoch,callbacks=[checkpointer, early_stop])\n",
    "    print('done training')\n",
    "    return model"
   ]
  },
  {
   "cell_type": "code",
   "execution_count": 104,
   "metadata": {
    "scrolled": true
   },
   "outputs": [
    {
     "name": "stdout",
     "output_type": "stream",
     "text": [
      "Found 870 images belonging to 10 classes.\n",
      "870\n"
     ]
    },
    {
     "name": "stderr",
     "output_type": "stream",
     "text": [
      "/anaconda3/lib/python3.6/site-packages/ipykernel_launcher.py:43: UserWarning: The semantics of the Keras 2 argument `steps_per_epoch` is not the same as the Keras 1 argument `samples_per_epoch`. `steps_per_epoch` is the number of batches to draw from the generator at each epoch. Basically steps_per_epoch = samples_per_epoch/batch_size. Similarly `nb_val_samples`->`validation_steps` and `val_samples`->`steps` arguments have changed. Update your method calls accordingly.\n",
      "/anaconda3/lib/python3.6/site-packages/ipykernel_launcher.py:43: UserWarning: Update your `fit_generator` call to the Keras 2 API: `fit_generator(<keras_pre..., callbacks=[<keras.ca..., steps_per_epoch=5, epochs=5)`\n"
     ]
    },
    {
     "name": "stdout",
     "output_type": "stream",
     "text": [
      "Epoch 1/5\n",
      "5/5 [==============================] - 65s 13s/step - loss: 2.0961 - acc: 0.3000\n",
      "Epoch 2/5\n"
     ]
    },
    {
     "name": "stderr",
     "output_type": "stream",
     "text": [
      "/anaconda3/lib/python3.6/site-packages/keras/callbacks.py:434: RuntimeWarning: Can save best model only with val_loss available, skipping.\n",
      "  'skipping.' % (self.monitor), RuntimeWarning)\n",
      "/anaconda3/lib/python3.6/site-packages/keras/callbacks.py:569: RuntimeWarning: Early stopping conditioned on metric `val_loss` which is not available. Available metrics are: loss,acc\n",
      "  (self.monitor, ','.join(list(logs.keys()))), RuntimeWarning\n"
     ]
    },
    {
     "name": "stdout",
     "output_type": "stream",
     "text": [
      "5/5 [==============================] - 47s 9s/step - loss: 1.3748 - acc: 0.8100\n",
      "Epoch 3/5\n",
      "5/5 [==============================] - 40s 8s/step - loss: 0.9841 - acc: 0.8900\n",
      "Epoch 4/5\n",
      "5/5 [==============================] - 39s 8s/step - loss: 0.5879 - acc: 0.9400\n",
      "Epoch 5/5\n",
      "5/5 [==============================] - 45s 9s/step - loss: 0.3475 - acc: 0.9900\n",
      "done training\n"
     ]
    }
   ],
   "source": [
    "model = transfer_learning_Xception('dataset_small/train',20,10,epoch = 5)"
   ]
  },
  {
   "cell_type": "code",
   "execution_count": 133,
   "metadata": {},
   "outputs": [],
   "source": [
    "def test_xception(test_dir):\n",
    "    xception_width = 299\n",
    "    xception_height = 299\n",
    "    batch_size = 20\n",
    "    test_datagen = ImageDataGenerator(rescale=1. / 255)\n",
    "    print(test_datagen)\n",
    "    test_generator = test_datagen.flow_from_directory(test_dir,\n",
    "                                                        target_size=(xception_width, xception_height),\n",
    "                                                        batch_size=1739,\n",
    "                                                        class_mode='categorical')\n",
    "    X,y =  test_generator.next()\n",
    "    return X,y"
   ]
  },
  {
   "cell_type": "code",
   "execution_count": 134,
   "metadata": {},
   "outputs": [
    {
     "name": "stdout",
     "output_type": "stream",
     "text": [
      "<keras.preprocessing.image.ImageDataGenerator object at 0x1af99dc0b8>\n",
      "Found 1739 images belonging to 10 classes.\n"
     ]
    }
   ],
   "source": [
    "test_data,test_label = test_xception('dataset_small/test')"
   ]
  },
  {
   "cell_type": "code",
   "execution_count": 123,
   "metadata": {},
   "outputs": [
    {
     "name": "stdout",
     "output_type": "stream",
     "text": [
      "[[0. 0. 0. ... 0. 0. 0.]\n",
      " [0. 0. 1. ... 0. 0. 0.]\n",
      " [0. 1. 0. ... 0. 0. 0.]\n",
      " ...\n",
      " [0. 0. 0. ... 1. 0. 0.]\n",
      " [0. 0. 0. ... 0. 0. 0.]\n",
      " [0. 0. 0. ... 0. 1. 0.]]\n"
     ]
    }
   ],
   "source": [
    "print(test_label)"
   ]
  },
  {
   "cell_type": "code",
   "execution_count": 135,
   "metadata": {},
   "outputs": [
    {
     "name": "stdout",
     "output_type": "stream",
     "text": [
      "0.3450258769407706\n"
     ]
    }
   ],
   "source": [
    "res = [np.argmax(model.predict(np.expand_dims(test,axis = 0))) for test in test_data]\n",
    "a = 100* np.sum(res == np.argmax(test_label, axis = 1))/len(test_label)\n",
    "print(a)"
   ]
  },
  {
   "cell_type": "code",
   "execution_count": 266,
   "metadata": {},
   "outputs": [],
   "source": [
    "arr = [1,2,3,4,5,6]\n",
    "arr = np.array(arr)"
   ]
  },
  {
   "cell_type": "code",
   "execution_count": 275,
   "metadata": {},
   "outputs": [
    {
     "name": "stdout",
     "output_type": "stream",
     "text": [
      "[5]\n"
     ]
    }
   ],
   "source": [
    "idx = (-arr).argsort()[:1]\n",
    "print(idx)"
   ]
  },
  {
   "cell_type": "code",
   "execution_count": null,
   "metadata": {},
   "outputs": [],
   "source": []
  }
 ],
 "metadata": {
  "kernelspec": {
   "display_name": "Python 3",
   "language": "python",
   "name": "python3"
  },
  "language_info": {
   "codemirror_mode": {
    "name": "ipython",
    "version": 3
   },
   "file_extension": ".py",
   "mimetype": "text/x-python",
   "name": "python",
   "nbconvert_exporter": "python",
   "pygments_lexer": "ipython3",
   "version": "3.6.5"
  }
 },
 "nbformat": 4,
 "nbformat_minor": 2
}
