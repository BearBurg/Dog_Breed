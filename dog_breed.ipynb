{
 "cells": [
  {
   "cell_type": "markdown",
   "metadata": {},
   "source": [
    "# Dog Breed"
   ]
  },
  {
   "cell_type": "markdown",
   "metadata": {},
   "source": [
    "## Data exploration"
   ]
  },
  {
   "cell_type": "code",
   "execution_count": 1,
   "metadata": {},
   "outputs": [
    {
     "name": "stderr",
     "output_type": "stream",
     "text": [
      "/Users/BearBurg/anaconda3/lib/python3.6/site-packages/h5py/__init__.py:34: FutureWarning: Conversion of the second argument of issubdtype from `float` to `np.floating` is deprecated. In future, it will be treated as `np.float64 == np.dtype(float).type`.\n",
      "  from ._conv import register_converters as _register_converters\n",
      "Using TensorFlow backend.\n"
     ]
    }
   ],
   "source": [
    "import csv\n",
    "import matplotlib.pylab as plt\n",
    "import os\n",
    "from keras.applications.resnet50 import ResNet50\n",
    "import numpy as np\n",
    "import PIL"
   ]
  },
  {
   "cell_type": "code",
   "execution_count": null,
   "metadata": {
    "collapsed": true,
    "scrolled": false
   },
   "outputs": [],
   "source": [
    "image_label = {}\n",
    "with open('dataset/labels.csv') as csv_file:\n",
    "    reader = csv.reader(csv_file, delimiter=',')\n",
    "    for row in reader:\n",
    "        image_name = row[0]\n",
    "        label = row[1]\n",
    "        \n",
    "        if label == 'breed':\n",
    "            continue\n",
    "        \n",
    "        if label not in image_label:\n",
    "            image_label[label] = set()\n",
    "            \n",
    "        image_label[label].add(image_name)\n",
    "\n",
    "\n",
    "# sorted_dict = sorted(image_label.keys())\n",
    "# print(sorted_dict)\n",
    "    "
   ]
  },
  {
   "cell_type": "code",
   "execution_count": null,
   "metadata": {
    "collapsed": true
   },
   "outputs": [],
   "source": [
    "label_dist = {}\n",
    "for k,v in image_label.items():\n",
    "    label_dist[k] = len(v)\n",
    "\n",
    "sorted_image_label = sorted(label_dist.items()) # sorted by key, return a list of tuples\n",
    "\n",
    "print(sorted_image_label)\n",
    "\n",
    "l, c = list(label_dist.keys()), list(label_dist.values())\n",
    "\n",
    "\n",
    "plt.figure(figsize=(30,70))\n",
    "plt.barh(l,c)\n",
    " \n",
    "plt.show()\n"
   ]
  },
  {
   "cell_type": "code",
   "execution_count": 2,
   "metadata": {
    "collapsed": true
   },
   "outputs": [],
   "source": [
    "def get_test_label(path):\n",
    "    labels = []\n",
    "    for foldername in os.listdir(path):\n",
    "#         print(foldername)\n",
    "        if foldername != '.DS_Store':\n",
    "            names = foldername.split('-')\n",
    "            l = len(names)\n",
    "            label = names[1]\n",
    "            for i in range(2,l):\n",
    "                label += '-' + names[i]\n",
    "            labels.append(label)\n",
    "    return labels"
   ]
  },
  {
   "cell_type": "code",
   "execution_count": null,
   "metadata": {
    "collapsed": true
   },
   "outputs": [],
   "source": [
    "labels = get_test_label('Images')\n",
    "labels.sort()\n",
    "print(labels)"
   ]
  },
  {
   "cell_type": "code",
   "execution_count": 10,
   "metadata": {
    "collapsed": true
   },
   "outputs": [],
   "source": [
    "#all/train\n",
    "def image_size(train_dir):\n",
    "    width = []\n",
    "    height = []\n",
    "    for image_dir in os.listdir(train_dir):\n",
    "        if image_dir != '.DS_Store':\n",
    "            image = PIL.Image.open(train_dir + '/' + image_dir)\n",
    "            width.append(image.size[0])\n",
    "            height.append(image.size[1])\n",
    "    return width,height"
   ]
  },
  {
   "cell_type": "code",
   "execution_count": 11,
   "metadata": {},
   "outputs": [
    {
     "name": "stdout",
     "output_type": "stream",
     "text": [
      "97\n",
      "3264\n"
     ]
    }
   ],
   "source": [
    "width,height = image_size('dataset/train')"
   ]
  },
  {
   "cell_type": "code",
   "execution_count": 39,
   "metadata": {},
   "outputs": [
    {
     "name": "stdout",
     "output_type": "stream",
     "text": [
      "10222\n"
     ]
    }
   ],
   "source": [
    "print(len(width))"
   ]
  },
  {
   "cell_type": "code",
   "execution_count": 23,
   "metadata": {},
   "outputs": [
    {
     "data": {
      "image/png": "[encoded data removed]",
      "text/plain": [
       "<Figure size 432x288 with 1 Axes>"
      ]
     },
     "metadata": {},
     "output_type": "display_data"
    }
   ],
   "source": [
    "width.sort()\n",
    "l, c = list(range(len(width))), width\n",
    "plt.ylim(0,1500)\n",
    "# plt.figure(figsize=(30,70))\n",
    "plt.bar(l,c)\n",
    "plt.show()"
   ]
  },
  {
   "cell_type": "code",
   "execution_count": 25,
   "metadata": {},
   "outputs": [
    {
     "data": {
      "image/png": "[encoded data removed]",
      "text/plain": [
       "<Figure size 432x288 with 1 Axes>"
      ]
     },
     "metadata": {},
     "output_type": "display_data"
    }
   ],
   "source": [
    "height.sort()\n",
    "l, c = list(range(len(height))), height\n",
    "plt.ylim(0,1500)\n",
    "# plt.figure(figsize=(30,70))\n",
    "plt.bar(l,c)\n",
    "plt.show()"
   ]
  },
  {
   "cell_type": "code",
   "execution_count": 2,
   "metadata": {
    "collapsed": true
   },
   "outputs": [],
   "source": [
    "from keras.preprocessing import image \n",
    "from keras.layers import Conv2D, MaxPooling2D, GlobalAveragePooling2D\n",
    "from keras.layers import Dropout, Flatten, Dense\n",
    "from keras.models import Sequential\n",
    "from keras.regularizers import l2\n",
    "from keras.callbacks import Callback, EarlyStopping, ModelCheckpoint\n",
    "from sklearn.datasets import load_files       \n",
    "from keras.utils import np_utils\n",
    "from keras.applications import *\n",
    "from keras.models import Model\n",
    "from keras.preprocessing.image import ImageDataGenerator\n",
    "from keras.applications.resnet50 import ResNet50, preprocess_input\n",
    "from keras.applications.xception import Xception, preprocess_input\n",
    "import numpy as np\n",
    "from glob import glob\n",
    "from PIL import ImageFile  \n",
    "from tqdm import tqdm\n",
    "ImageFile.LOAD_TRUNCATED_IMAGES = True    \n",
    "from sklearn.datasets import load_files       \n",
    "from keras.utils import np_utils\n",
    "import numpy as np\n",
    "from glob import glob"
   ]
  },
  {
   "cell_type": "code",
   "execution_count": 3,
   "metadata": {
    "collapsed": true
   },
   "outputs": [],
   "source": [
    "def load_dataset(path):\n",
    "    data = load_files(path)\n",
    "    dog_files = np.array(data['filenames'])\n",
    "    dog_targets = np_utils.to_categorical(np.array(data['target']), 133)\n",
    "    return dog_files, dog_targets\n",
    "def path_to_tensor(img_path):\n",
    "    # loads RGB image as PIL.Image.Image type\n",
    "    img = image.load_img(img_path, target_size=(224, 224))\n",
    "    # convert PIL.Image.Image type to 3D tensor with shape (224, 224, 3)\n",
    "    x = image.img_to_array(img)\n",
    "    # convert 3D tensor to 4D tensor with shape (1, 224, 224, 3) and return 4D tensor\n",
    "    return np.expand_dims(x, axis=0)\n",
    "\n",
    "def paths_to_tensor(img_paths):\n",
    "    list_of_tensors = [path_to_tensor(img_path) for img_path in tqdm(img_paths)]\n",
    "    return np.vstack(list_of_tensors)"
   ]
  },
  {
   "cell_type": "code",
   "execution_count": 105,
   "metadata": {
    "scrolled": false
   },
   "outputs": [
    {
     "name": "stderr",
     "output_type": "stream",
     "text": [
      "100%|██████████| 870/870 [00:05<00:00, 165.70it/s]\n",
      "100%|██████████| 1739/1739 [00:08<00:00, 211.34it/s]\n"
     ]
    }
   ],
   "source": [
    "train_files, train_labels = load_dataset('dataset_small/train')\n",
    "train_tensors = paths_to_tensor(train_files).astype('float32')/255\n",
    "test_files, test_labels = load_dataset('dataset_small/test')\n",
    "test_tensors = paths_to_tensor(test_files).astype('float32')/255"
   ]
  },
  {
   "cell_type": "code",
   "execution_count": 29,
   "metadata": {
    "collapsed": true
   },
   "outputs": [],
   "source": [
    "xceptionData = np.load('DogXceptionData.npz')\n",
    "xceptionTrain = xceptionData['train']\n",
    "# xceptionValid = xceptionData['valid']\n",
    "xceptionTest = xceptionData['test']"
   ]
  },
  {
   "cell_type": "code",
   "execution_count": 44,
   "metadata": {
    "collapsed": true
   },
   "outputs": [],
   "source": [
    "resnet50Data = np.load('DogResnet50Data.npz')\n",
    "resnet50Train = resnet50Data['train']\n",
    "resnet50Test = resnet50Data['test']"
   ]
  },
  {
   "cell_type": "code",
   "execution_count": 45,
   "metadata": {},
   "outputs": [
    {
     "name": "stdout",
     "output_type": "stream",
     "text": [
      "(6680, 1, 1, 2048)\n"
     ]
    }
   ],
   "source": [
    "print(resnet50Train.shape)"
   ]
  },
  {
   "cell_type": "code",
   "execution_count": 49,
   "metadata": {
    "collapsed": true
   },
   "outputs": [],
   "source": [
    "resnet50Data_1 = np.load('resnet50data.npz')\n",
    "resnet50Train_1 = resnet50Data_1['train']\n",
    "resnet50Test_1 = resnet50Data_1['test']"
   ]
  },
  {
   "cell_type": "code",
   "execution_count": 51,
   "metadata": {},
   "outputs": [
    {
     "name": "stdout",
     "output_type": "stream",
     "text": [
      "(6680, 1, 1, 2048)\n"
     ]
    }
   ],
   "source": [
    "resnet50Train_1 = np.expand_dims(resnet50Train_1, axis = 1)\n",
    "resnet50Train_1 = np.expand_dims(resnet50Train_1, axis = 1)\n"
   ]
  },
  {
   "cell_type": "code",
   "execution_count": 54,
   "metadata": {
    "collapsed": true
   },
   "outputs": [],
   "source": [
    "resnet50Test_1 = np.expand_dims(resnet50Test_1, axis = 1)\n",
    "resnet50Test_1 = np.expand_dims(resnet50Test_1, axis = 1)"
   ]
  },
  {
   "cell_type": "code",
   "execution_count": 168,
   "metadata": {
    "collapsed": true
   },
   "outputs": [],
   "source": [
    "def extract_Xception(tensor):\n",
    "    return Xception(weights='imagenet', include_top=False).predict(preprocess_input(tensor))"
   ]
  },
  {
   "cell_type": "code",
   "execution_count": 194,
   "metadata": {
    "collapsed": true
   },
   "outputs": [],
   "source": [
    "def Xception_transfer_learning(train_Xception,train_targets,length):\n",
    "    Xception_model = Sequential()\n",
    "    Xception_model.add(GlobalAveragePooling2D(input_shape=train_Xception.shape[1:]))\n",
    "    Xception_model.add(Dense(512, activation='relu'))\n",
    "    Xception_model.add(Dropout(0.5))\n",
    "    Xception_model.add(Dense(length, activation='softmax'))\n",
    "\n",
    "    Xception_model.summary()\n",
    "    Xception_model.compile(loss='categorical_crossentropy', optimizer='rmsprop', metrics=['accuracy'])\n",
    "    checkpointer = ModelCheckpoint(filepath='saved_models/weights.best.Xception.hdf5', \n",
    "                               verbose=1, save_best_only=True)\n",
    "\n",
    "    early_stop = EarlyStopping(monitor='val_loss', min_delta=0.005, patience=5, verbose=0, mode='auto')\n",
    "\n",
    "    Xception_model.fit(train_Xception, train_targets,epochs=20, batch_size=40, callbacks=[checkpointer, early_stop], verbose=1)\n",
    "    return Xception_model "
   ]
  },
  {
   "cell_type": "code",
   "execution_count": 60,
   "metadata": {
    "collapsed": true
   },
   "outputs": [],
   "source": [
    "f, labels = load_dataset('dogImages/train')"
   ]
  },
  {
   "cell_type": "code",
   "execution_count": 12,
   "metadata": {
    "collapsed": true
   },
   "outputs": [],
   "source": [
    "test_f, test_labels = load_dataset('dogImages/test')"
   ]
  },
  {
   "cell_type": "code",
   "execution_count": 200,
   "metadata": {
    "scrolled": false
   },
   "outputs": [
    {
     "name": "stdout",
     "output_type": "stream",
     "text": [
      "_________________________________________________________________\n",
      "Layer (type)                 Output Shape              Param #   \n",
      "=================================================================\n",
      "global_average_pooling2d_23  (None, 2048)              0         \n",
      "_________________________________________________________________\n",
      "dense_31 (Dense)             (None, 512)               1049088   \n",
      "_________________________________________________________________\n",
      "dense_32 (Dense)             (None, 133)               68229     \n",
      "=================================================================\n",
      "Total params: 1,117,317\n",
      "Trainable params: 1,117,317\n",
      "Non-trainable params: 0\n",
      "_________________________________________________________________\n",
      "Epoch 1/20\n",
      "6680/6680 [==============================] - 37s 6ms/step - loss: 1.1829 - acc: 0.7018\n",
      "Epoch 2/20\n",
      " 120/6680 [..............................] - ETA: 11s - loss: 0.3975 - acc: 0.8583"
     ]
    },
    {
     "name": "stderr",
     "output_type": "stream",
     "text": [
      "/anaconda3/lib/python3.6/site-packages/keras/callbacks.py:434: RuntimeWarning: Can save best model only with val_loss available, skipping.\n",
      "  'skipping.' % (self.monitor), RuntimeWarning)\n",
      "/anaconda3/lib/python3.6/site-packages/keras/callbacks.py:569: RuntimeWarning: Early stopping conditioned on metric `val_loss` which is not available. Available metrics are: loss,acc\n",
      "  (self.monitor, ','.join(list(logs.keys()))), RuntimeWarning\n"
     ]
    },
    {
     "name": "stdout",
     "output_type": "stream",
     "text": [
      "6680/6680 [==============================] - 8s 1ms/step - loss: 0.4594 - acc: 0.8558\n",
      "Epoch 3/20\n",
      "6680/6680 [==============================] - 5s 822us/step - loss: 0.3172 - acc: 0.8930\n",
      "Epoch 4/20\n",
      "6680/6680 [==============================] - 6s 827us/step - loss: 0.2310 - acc: 0.9223\n",
      "Epoch 5/20\n",
      "6680/6680 [==============================] - 5s 810us/step - loss: 0.1802 - acc: 0.9394\n",
      "Epoch 6/20\n",
      "6680/6680 [==============================] - 5s 820us/step - loss: 0.1345 - acc: 0.9530\n",
      "Epoch 7/20\n",
      "6680/6680 [==============================] - 5s 814us/step - loss: 0.1164 - acc: 0.9632\n",
      "Epoch 8/20\n",
      "6680/6680 [==============================] - 6s 844us/step - loss: 0.0908 - acc: 0.9692\n",
      "Epoch 9/20\n",
      "6680/6680 [==============================] - 6s 837us/step - loss: 0.0748 - acc: 0.9759\n",
      "Epoch 10/20\n",
      "6680/6680 [==============================] - 6s 935us/step - loss: 0.0646 - acc: 0.9790\n",
      "Epoch 11/20\n",
      "6680/6680 [==============================] - 6s 972us/step - loss: 0.0678 - acc: 0.9793\n",
      "Epoch 12/20\n",
      "6680/6680 [==============================] - 7s 1ms/step - loss: 0.0493 - acc: 0.9814\n",
      "Epoch 13/20\n",
      "6680/6680 [==============================] - 6s 919us/step - loss: 0.0423 - acc: 0.9871\n",
      "Epoch 14/20\n",
      "6680/6680 [==============================] - 6s 914us/step - loss: 0.0385 - acc: 0.9882\n",
      "Epoch 15/20\n",
      "6680/6680 [==============================] - 6s 940us/step - loss: 0.0343 - acc: 0.9915\n",
      "Epoch 16/20\n",
      "6680/6680 [==============================] - 6s 953us/step - loss: 0.0405 - acc: 0.9897\n",
      "Epoch 17/20\n",
      "6680/6680 [==============================] - 6s 859us/step - loss: 0.0335 - acc: 0.9916 1s - loss:\n",
      "Epoch 18/20\n",
      "6680/6680 [==============================] - 6s 886us/step - loss: 0.0277 - acc: 0.9931\n",
      "Epoch 19/20\n",
      "6680/6680 [==============================] - 6s 946us/step - loss: 0.0333 - acc: 0.9922\n",
      "Epoch 20/20\n",
      "6680/6680 [==============================] - 7s 973us/step - loss: 0.0296 - acc: 0.9937\n"
     ]
    }
   ],
   "source": [
    "Xception_model = Xception_transfer_learning(xceptionTrain,labels,133)"
   ]
  },
  {
   "cell_type": "code",
   "execution_count": 108,
   "metadata": {
    "collapsed": true
   },
   "outputs": [],
   "source": [
    "def tranfer_learning(trainingData,trainLabels,length):\n",
    "    model = Sequential()\n",
    "    model.add(GlobalAveragePooling2D(input_shape=trainingData.shape[1:]))\n",
    "    model.add(Dense(1000, activation='relu'))\n",
    "    model.add(Dropout(0.5))\n",
    "    model.add(Dense(length, activation='softmax'))\n",
    "\n",
    "    model.summary()\n",
    "    model.compile(loss='categorical_crossentropy', optimizer='rmsprop', metrics=['accuracy'])\n",
    "#     checkpointer = ModelCheckpoint(filepath='saved_models/weights.best.Xception.hdf5', \n",
    "#                                verbose=1, save_best_only=True)\n",
    "\n",
    "#     early_stop = EarlyStopping(monitor='val_loss', min_delta=0.005, patience=5, verbose=0, mode='auto')\n",
    "\n",
    "    model.fit(trainingData, trainLabels, epochs=10, batch_size=20, verbose=1)\n",
    "    return model"
   ]
  },
  {
   "cell_type": "code",
   "execution_count": 70,
   "metadata": {},
   "outputs": [
    {
     "name": "stdout",
     "output_type": "stream",
     "text": [
      "_________________________________________________________________\n",
      "Layer (type)                 Output Shape              Param #   \n",
      "=================================================================\n",
      "global_average_pooling2d_24  (None, 2048)              0         \n",
      "_________________________________________________________________\n",
      "dense_9 (Dense)              (None, 512)               1049088   \n",
      "_________________________________________________________________\n",
      "dropout_4 (Dropout)          (None, 512)               0         \n",
      "_________________________________________________________________\n",
      "dense_10 (Dense)             (None, 133)               68229     \n",
      "=================================================================\n",
      "Total params: 1,117,317\n",
      "Trainable params: 1,117,317\n",
      "Non-trainable params: 0\n",
      "_________________________________________________________________\n",
      "Epoch 1/20\n",
      "6680/6680 [==============================] - 28s 4ms/step - loss: 2.6979 - acc: 0.3719\n",
      "Epoch 2/20\n",
      "6680/6680 [==============================] - 10s 2ms/step - loss: 1.1737 - acc: 0.6587\n",
      "Epoch 3/20\n",
      "6680/6680 [==============================] - 10s 1ms/step - loss: 0.8818 - acc: 0.7397\n",
      "Epoch 4/20\n",
      "6680/6680 [==============================] - 10s 1ms/step - loss: 0.7215 - acc: 0.7852\n",
      "Epoch 5/20\n",
      "6680/6680 [==============================] - 10s 2ms/step - loss: 0.6307 - acc: 0.8063\n",
      "Epoch 6/20\n",
      "6680/6680 [==============================] - 11s 2ms/step - loss: 0.5726 - acc: 0.8246\n",
      "Epoch 7/20\n",
      "6680/6680 [==============================] - 11s 2ms/step - loss: 0.5237 - acc: 0.8445\n",
      "Epoch 8/20\n",
      "6680/6680 [==============================] - 10s 2ms/step - loss: 0.4754 - acc: 0.8605: 0s - loss: 0.4707 - acc: 0\n",
      "Epoch 9/20\n",
      "6680/6680 [==============================] - 12s 2ms/step - loss: 0.4152 - acc: 0.8750\n",
      "Epoch 10/20\n",
      "6680/6680 [==============================] - 10s 1ms/step - loss: 0.4128 - acc: 0.8829\n",
      "Epoch 11/20\n",
      "6680/6680 [==============================] - 9s 1ms/step - loss: 0.4047 - acc: 0.8822\n",
      "Epoch 12/20\n",
      "6680/6680 [==============================] - 9s 1ms/step - loss: 0.3779 - acc: 0.8924\n",
      "Epoch 13/20\n",
      "6680/6680 [==============================] - 9s 1ms/step - loss: 0.3635 - acc: 0.8954A: 0s - loss: 0.3651 - acc: 0.8\n",
      "Epoch 14/20\n",
      "6680/6680 [==============================] - 8s 1ms/step - loss: 0.3474 - acc: 0.9025\n",
      "Epoch 15/20\n",
      "6680/6680 [==============================] - 9s 1ms/step - loss: 0.3377 - acc: 0.9045\n",
      "Epoch 16/20\n",
      "6680/6680 [==============================] - 10s 2ms/step - loss: 0.3066 - acc: 0.9126\n",
      "Epoch 17/20\n",
      "6680/6680 [==============================] - 10s 2ms/step - loss: 0.3019 - acc: 0.9150: 0s - loss: 0.3013 - ac\n",
      "Epoch 18/20\n",
      "6680/6680 [==============================] - 10s 1ms/step - loss: 0.2941 - acc: 0.9207\n",
      "Epoch 19/20\n",
      "6680/6680 [==============================] - 10s 1ms/step - loss: 0.3040 - acc: 0.9163\n",
      "Epoch 20/20\n",
      "6680/6680 [==============================] - 10s 2ms/step - loss: 0.2733 - acc: 0.9278\n"
     ]
    }
   ],
   "source": [
    "resnet_model = tranfer_learning(resnet50Train,labels,133)"
   ]
  },
  {
   "cell_type": "code",
   "execution_count": 109,
   "metadata": {
    "scrolled": true
   },
   "outputs": [
    {
     "name": "stdout",
     "output_type": "stream",
     "text": [
      "_________________________________________________________________\n",
      "Layer (type)                 Output Shape              Param #   \n",
      "=================================================================\n",
      "global_average_pooling2d_29  (None, 2048)              0         \n",
      "_________________________________________________________________\n",
      "dense_17 (Dense)             (None, 1000)              2049000   \n",
      "_________________________________________________________________\n",
      "dropout_6 (Dropout)          (None, 1000)              0         \n",
      "_________________________________________________________________\n",
      "dense_18 (Dense)             (None, 133)               133133    \n",
      "=================================================================\n",
      "Total params: 2,182,133\n",
      "Trainable params: 2,182,133\n",
      "Non-trainable params: 0\n",
      "_________________________________________________________________\n",
      "Epoch 1/10\n",
      "6680/6680 [==============================] - 47s 7ms/step - loss: 2.4484 - acc: 0.4328\n",
      "Epoch 2/10\n",
      "6680/6680 [==============================] - 14s 2ms/step - loss: 1.0672 - acc: 0.6937\n",
      "Epoch 3/10\n",
      "6680/6680 [==============================] - 14s 2ms/step - loss: 0.8460 - acc: 0.7602\n",
      "Epoch 4/10\n",
      "6680/6680 [==============================] - 17s 2ms/step - loss: 0.6964 - acc: 0.8019\n",
      "Epoch 5/10\n",
      "6680/6680 [==============================] - 16s 2ms/step - loss: 0.6458 - acc: 0.8220\n",
      "Epoch 6/10\n",
      "6680/6680 [==============================] - 17s 3ms/step - loss: 0.5779 - acc: 0.8448\n",
      "Epoch 7/10\n",
      "6680/6680 [==============================] - 18s 3ms/step - loss: 0.5038 - acc: 0.8579: 1s - loss: 0.4940 - acc: 0.860 - ETA: 1s - loss\n",
      "Epoch 8/10\n",
      "6680/6680 [==============================] - 16s 2ms/step - loss: 0.4646 - acc: 0.8713\n",
      "Epoch 9/10\n",
      "6680/6680 [==============================] - 16s 2ms/step - loss: 0.4214 - acc: 0.8801\n",
      "Epoch 10/10\n",
      "6680/6680 [==============================] - 16s 2ms/step - loss: 0.4404 - acc: 0.8861\n"
     ]
    }
   ],
   "source": [
    "resnet_model1 = tranfer_learning(resnet50Train_1,labels,133)"
   ]
  },
  {
   "cell_type": "code",
   "execution_count": 53,
   "metadata": {
    "collapsed": true
   },
   "outputs": [],
   "source": [
    "def calculate_accuracy(model,testData,testLabel,m):\n",
    "    i = 0\n",
    "    a = 0\n",
    "    for test in testData:\n",
    "        arr = model.predict(np.expand_dims(test,axis = 0))\n",
    "        idx = np.argsort(-arr[0])[:m]\n",
    "        if np.argmax(testLabel[i]) in idx:\n",
    "            a += 1\n",
    "        i += 1\n",
    "    return a/len(testLabel)"
   ]
  },
  {
   "cell_type": "code",
   "execution_count": 115,
   "metadata": {},
   "outputs": [
    {
     "name": "stdout",
     "output_type": "stream",
     "text": [
      "top 3 accuracy is: 0.9617224880382775\n"
     ]
    }
   ],
   "source": [
    "m = 3\n",
    "acc = calculate_accuracy(resnet_model,resnet50Test,test_labels,m)\n",
    "print('top ' + str(m)+ ' accuracy is: ' + str(acc))"
   ]
  },
  {
   "cell_type": "code",
   "execution_count": 117,
   "metadata": {},
   "outputs": [
    {
     "name": "stdout",
     "output_type": "stream",
     "text": [
      "top 1 accuracy is: 0.8026315789473685\n"
     ]
    }
   ],
   "source": [
    "m = 1\n",
    "acc = calculate_accuracy(resnet_model1,resnet50Test,test_labels,m)\n",
    "print('top ' + str(m)+ ' accuracy is: ' + str(acc))"
   ]
  },
  {
   "cell_type": "code",
   "execution_count": 61,
   "metadata": {},
   "outputs": [
    {
     "name": "stdout",
     "output_type": "stream",
     "text": [
      "top 3 accuracy is: 1.0\n"
     ]
    }
   ],
   "source": [
    "m = 3\n",
    "acc = calculate_accuracy(resnet_model1,resnet50Train_1,labels,m)\n",
    "print('top ' + str(m)+ ' accuracy is: ' + str(acc))"
   ]
  },
  {
   "cell_type": "code",
   "execution_count": 39,
   "metadata": {
    "collapsed": true
   },
   "outputs": [],
   "source": [
    "def make_prediction(labels,model,testData,m):\n",
    "    labelList = []\n",
    "    \n",
    "    for test in testData:\n",
    "        arr = model.predict(np.expand_dims(test,axis = 0))\n",
    "        idx = np.argsort(-arr[0])[:m]\n",
    "        print(idx)\n",
    "        l = [labels[index] for index in idx]\n",
    "        labelList.append(l)\n",
    "        \n",
    "    return labelList"
   ]
  },
  {
   "cell_type": "code",
   "execution_count": 129,
   "metadata": {
    "collapsed": true
   },
   "outputs": [],
   "source": [
    "def extract_Resnet50(tensor):\n",
    "    return ResNet50(weights='imagenet', include_top=False, pooling=\"avg\").predict(preprocess_input(tensor))"
   ]
  },
  {
   "cell_type": "code",
   "execution_count": 118,
   "metadata": {
    "collapsed": true
   },
   "outputs": [],
   "source": [
    "def extract_resnet50_feature(path):\n",
    "    tensor = paths_to_tensor(path)\n",
    "    return ResNet50(weights='imagenet', include_top=False, pooling = 'avg').predict(preprocess_input(tensor))"
   ]
  },
  {
   "cell_type": "code",
   "execution_count": 81,
   "metadata": {
    "collapsed": true
   },
   "outputs": [],
   "source": [
    "def res50_predictor(labels, model, path, m):\n",
    "    features = extract_resnet50_feature(path)\n",
    "#     print([i for i in features])\n",
    "    features = np.expand_dims(features,axis = 1)\n",
    "    features = np.expand_dims(features,axis = 1)\n",
    "    labelList = make_prediction(labels,model,features,m)\n",
    "    print(labelList)"
   ]
  },
  {
   "cell_type": "code",
   "execution_count": 120,
   "metadata": {
    "collapsed": true
   },
   "outputs": [],
   "source": [
    "from PIL import ImageFile                            \n",
    "ImageFile.LOAD_TRUNCATED_IMAGES = True"
   ]
  },
  {
   "cell_type": "code",
   "execution_count": 126,
   "metadata": {},
   "outputs": [
    {
     "name": "stderr",
     "output_type": "stream",
     "text": [
      "\n",
      "\n",
      "\n",
      "\n",
      "\n",
      "\n",
      "\n",
      "\n",
      "  0%|          | 0/63 [00:00<?, ?it/s]\u001b[A\u001b[A\u001b[A\u001b[A\u001b[A\u001b[A\u001b[A\u001b[A\n",
      "\n",
      "\n",
      "\n",
      "\n",
      "\n",
      "\n",
      "\n",
      "  3%|▎         | 2/63 [00:00<00:05, 11.87it/s]\u001b[A\u001b[A\u001b[A\u001b[A\u001b[A\u001b[A\u001b[A\u001b[A\n",
      "\n",
      "\n",
      "\n",
      "\n",
      "\n",
      "\n",
      "\n",
      " 19%|█▉        | 12/63 [00:00<00:03, 16.12it/s]\u001b[A\u001b[A\u001b[A\u001b[A\u001b[A\u001b[A\u001b[A\u001b[A\n",
      "\n",
      "\n",
      "\n",
      "\n",
      "\n",
      "\n",
      "\n",
      " 35%|███▍      | 22/63 [00:00<00:01, 21.47it/s]\u001b[A\u001b[A\u001b[A\u001b[A\u001b[A\u001b[A\u001b[A\u001b[A\n",
      "\n",
      "\n",
      "\n",
      "\n",
      "\n",
      "\n",
      "\n",
      " 51%|█████     | 32/63 [00:00<00:01, 28.00it/s]\u001b[A\u001b[A\u001b[A\u001b[A\u001b[A\u001b[A\u001b[A\u001b[A\n",
      "\n",
      "\n",
      "\n",
      "\n",
      "\n",
      "\n",
      "\n",
      " 71%|███████▏  | 45/63 [00:00<00:00, 36.54it/s]\u001b[A\u001b[A\u001b[A\u001b[A\u001b[A\u001b[A\u001b[A\u001b[A\n",
      "\n",
      "\n",
      "\n",
      "\n",
      "\n",
      "\n",
      "\n",
      " 87%|████████▋ | 55/63 [00:00<00:00, 44.71it/s]\u001b[A\u001b[A\u001b[A\u001b[A\u001b[A\u001b[A\u001b[A\u001b[A\n",
      "\n",
      "\n",
      "\n",
      "\n",
      "\n",
      "\n",
      "\n",
      "100%|██████████| 63/63 [00:00<00:00, 80.19it/s]\u001b[A\u001b[A\u001b[A\u001b[A\u001b[A\u001b[A\u001b[A\u001b[A"
     ]
    },
    {
     "name": "stdout",
     "output_type": "stream",
     "text": [
      "[ 23  47   5   7  48  89 100  15 122 107]\n",
      "[ 23  47   7  48   5  15 100  89  80  42]\n",
      "[ 23  47 100   7  48   5  81  45  90  89]\n",
      "[ 23  47   5   7  48 100  89  15  90 122]\n",
      "[ 23  47   5   7  48 122 100  89 107 123]\n",
      "[ 23  48   5  47 100   7  89 122  81  90]\n",
      "[ 23   7  47   5  48 100  15  89  90  81]\n",
      "[ 23   7  47   5  15  48 100  89  80 107]\n",
      "[ 23   5  47  48 100 122   7  89  81  90]\n",
      "[ 23  47   7   5  48 100  15  89 123 107]\n",
      "[ 23   7  47  48 100   5  15  89  80  81]\n",
      "[ 48 100  23   5  47  81  89 122   7  90]\n",
      "[ 23  48 100  47   7   5  89  81  38  80]\n",
      "[ 23  47   5  48 100   7 122  90  89  81]\n",
      "[ 23   7  47 100  48   5  89  81  80  38]\n",
      "[ 23  47   7   5  48 100  15  89  80 107]\n",
      "[ 23  47   7   5  48 100  89  15  80 107]\n",
      "[ 23  47   7   5  15  48 100  80  89 107]\n",
      "[ 23   5  47   7  48  15 107 100 123  89]\n",
      "[100  23  48  81  47   5   7  99  90  89]\n",
      "[ 23  47   5   7  48 100  89  15 122  90]\n",
      "[ 23  47 100  48   7   5  81  90  15  89]\n",
      "[ 23  48   5  47   7 100 122  89  83  90]\n",
      "[ 23   7  47   5  48  15 100  89  80 107]\n",
      "[ 23  47   7   5  48  15 100  89  80 123]\n",
      "[ 23   7  47  48   5 100  89  15  80  38]\n",
      "[ 23   5  48  47   7 100  89  81  15 122]\n",
      "[ 23  47   5   7  48 100  89  15 122  80]\n",
      "[ 23   5  47  48 100   7  89 122  81  90]\n",
      "[ 23  47   7   5  48  15 100  89  80 107]\n",
      "[ 23  47   7   5  48 100  15  89  80 107]\n",
      "[ 23  47   7   5  48 100  15  89  81  80]\n",
      "[ 23 100   5  47  48   7  81  89  90 122]\n",
      "[ 23  48  47   5 100   7  89  81 122  90]\n",
      "[ 23  47   5  48   7 100  89 122  81  90]\n",
      "[ 23  47   7   5  48 100  15  89 107  81]\n",
      "[ 23  47   5   7  48  89 100  15 107  83]\n",
      "[ 23  47   7  48   5  15 100  89  80 107]\n",
      "[ 23  47   5   7  48 100  15  89 107 123]\n",
      "[ 23  47   7  48 100   5  89  15  81  38]\n",
      "[ 23 100  48  47  81   7   5  89  90  99]\n",
      "[ 23   5  47 100  48   7  81  89  83  90]\n",
      "[ 23  47   7   5  48  15 100  89  80 123]\n",
      "[ 23   7 100  48  47   5  89  81  15  80]\n",
      "[ 23  47   7   5  48  15 100  80  89 107]\n",
      "[ 23   5  47   7  48 100 122  15  89 107]\n",
      "[ 23  47   7   5  48 100  89  15  81  80]\n",
      "[ 23   7   5  47  48 100  15  89 107  80]\n",
      "[ 23  47   7  48   5 100  15  89  81  90]\n",
      "[ 23  47   7   5  15  48 100   6  80 123]\n",
      "[ 23   5  47  48   7 100  89 122  81  90]\n",
      "[  5  48  23  47 100 122  90   7  89  81]\n",
      "[ 23   5  47  48   7 100  89 122  83  81]\n",
      "[ 23  47   7  48   5 100  89  15  81  80]\n",
      "[ 23  47   5   7  48 100  15  89 122  83]\n",
      "[ 23  47   7 100  48   5  89  81  80  45]\n",
      "[ 23 100  47  48   7   5  81  89  90  56]\n",
      "[ 23 100  48  47   7   5  81  89  90  45]\n",
      "[ 23  47 100  48   7   5  81  89  90  38]\n",
      "[ 23  47   7   5  48  15 100  80  89 107]\n",
      "[ 23  47   7   5  48 100  89  80 122  81]\n",
      "[ 23  47   5   7  48 100  89  90 122  80]\n",
      "[ 23  47   7   5  48 100  15  89  80 123]\n",
      "[['Bichon_frise', 'Chihuahua', 'American_eskimo_dog', 'American_staffordshire_terrier', 'Chinese_crested', 'Italian_greyhound', 'Maltese', 'Beagle', 'Pomeranian', 'Norwegian_buhund'], ['Bichon_frise', 'Chihuahua', 'American_staffordshire_terrier', 'Chinese_crested', 'American_eskimo_dog', 'Beagle', 'Maltese', 'Italian_greyhound', 'Greyhound', 'Canaan_dog'], ['Bichon_frise', 'Chihuahua', 'Maltese', 'American_staffordshire_terrier', 'Chinese_crested', 'American_eskimo_dog', 'Havanese', 'Cavalier_king_charles_spaniel', 'Japanese_chin', 'Italian_greyhound'], ['Bichon_frise', 'Chihuahua', 'American_eskimo_dog', 'American_staffordshire_terrier', 'Chinese_crested', 'Maltese', 'Italian_greyhound', 'Beagle', 'Japanese_chin', 'Pomeranian'], ['Bichon_frise', 'Chihuahua', 'American_eskimo_dog', 'American_staffordshire_terrier', 'Chinese_crested', 'Pomeranian', 'Maltese', 'Italian_greyhound', 'Norwegian_buhund', 'Poodle'], ['Bichon_frise', 'Chinese_crested', 'American_eskimo_dog', 'Chihuahua', 'Maltese', 'American_staffordshire_terrier', 'Italian_greyhound', 'Pomeranian', 'Havanese', 'Japanese_chin'], ['Bichon_frise', 'American_staffordshire_terrier', 'Chihuahua', 'American_eskimo_dog', 'Chinese_crested', 'Maltese', 'Beagle', 'Italian_greyhound', 'Japanese_chin', 'Havanese'], ['Bichon_frise', 'American_staffordshire_terrier', 'Chihuahua', 'American_eskimo_dog', 'Beagle', 'Chinese_crested', 'Maltese', 'Italian_greyhound', 'Greyhound', 'Norwegian_buhund'], ['Bichon_frise', 'American_eskimo_dog', 'Chihuahua', 'Chinese_crested', 'Maltese', 'Pomeranian', 'American_staffordshire_terrier', 'Italian_greyhound', 'Havanese', 'Japanese_chin'], ['Bichon_frise', 'Chihuahua', 'American_staffordshire_terrier', 'American_eskimo_dog', 'Chinese_crested', 'Maltese', 'Beagle', 'Italian_greyhound', 'Poodle', 'Norwegian_buhund'], ['Bichon_frise', 'American_staffordshire_terrier', 'Chihuahua', 'Chinese_crested', 'Maltese', 'American_eskimo_dog', 'Beagle', 'Italian_greyhound', 'Greyhound', 'Havanese'], ['Chinese_crested', 'Maltese', 'Bichon_frise', 'American_eskimo_dog', 'Chihuahua', 'Havanese', 'Italian_greyhound', 'Pomeranian', 'American_staffordshire_terrier', 'Japanese_chin'], ['Bichon_frise', 'Chinese_crested', 'Maltese', 'Chihuahua', 'American_staffordshire_terrier', 'American_eskimo_dog', 'Italian_greyhound', 'Havanese', 'Bull_terrier', 'Greyhound'], ['Bichon_frise', 'Chihuahua', 'American_eskimo_dog', 'Chinese_crested', 'Maltese', 'American_staffordshire_terrier', 'Pomeranian', 'Japanese_chin', 'Italian_greyhound', 'Havanese'], ['Bichon_frise', 'American_staffordshire_terrier', 'Chihuahua', 'Maltese', 'Chinese_crested', 'American_eskimo_dog', 'Italian_greyhound', 'Havanese', 'Greyhound', 'Bull_terrier'], ['Bichon_frise', 'Chihuahua', 'American_staffordshire_terrier', 'American_eskimo_dog', 'Chinese_crested', 'Maltese', 'Beagle', 'Italian_greyhound', 'Greyhound', 'Norwegian_buhund'], ['Bichon_frise', 'Chihuahua', 'American_staffordshire_terrier', 'American_eskimo_dog', 'Chinese_crested', 'Maltese', 'Italian_greyhound', 'Beagle', 'Greyhound', 'Norwegian_buhund'], ['Bichon_frise', 'Chihuahua', 'American_staffordshire_terrier', 'American_eskimo_dog', 'Beagle', 'Chinese_crested', 'Maltese', 'Greyhound', 'Italian_greyhound', 'Norwegian_buhund'], ['Bichon_frise', 'American_eskimo_dog', 'Chihuahua', 'American_staffordshire_terrier', 'Chinese_crested', 'Beagle', 'Norwegian_buhund', 'Maltese', 'Poodle', 'Italian_greyhound'], ['Maltese', 'Bichon_frise', 'Chinese_crested', 'Havanese', 'Chihuahua', 'American_eskimo_dog', 'American_staffordshire_terrier', 'Lowchen', 'Japanese_chin', 'Italian_greyhound'], ['Bichon_frise', 'Chihuahua', 'American_eskimo_dog', 'American_staffordshire_terrier', 'Chinese_crested', 'Maltese', 'Italian_greyhound', 'Beagle', 'Pomeranian', 'Japanese_chin'], ['Bichon_frise', 'Chihuahua', 'Maltese', 'Chinese_crested', 'American_staffordshire_terrier', 'American_eskimo_dog', 'Havanese', 'Japanese_chin', 'Beagle', 'Italian_greyhound'], ['Bichon_frise', 'Chinese_crested', 'American_eskimo_dog', 'Chihuahua', 'American_staffordshire_terrier', 'Maltese', 'Pomeranian', 'Italian_greyhound', 'Icelandic_sheepdog', 'Japanese_chin'], ['Bichon_frise', 'American_staffordshire_terrier', 'Chihuahua', 'American_eskimo_dog', 'Chinese_crested', 'Beagle', 'Maltese', 'Italian_greyhound', 'Greyhound', 'Norwegian_buhund'], ['Bichon_frise', 'Chihuahua', 'American_staffordshire_terrier', 'American_eskimo_dog', 'Chinese_crested', 'Beagle', 'Maltese', 'Italian_greyhound', 'Greyhound', 'Poodle'], ['Bichon_frise', 'American_staffordshire_terrier', 'Chihuahua', 'Chinese_crested', 'American_eskimo_dog', 'Maltese', 'Italian_greyhound', 'Beagle', 'Greyhound', 'Bull_terrier'], ['Bichon_frise', 'American_eskimo_dog', 'Chinese_crested', 'Chihuahua', 'American_staffordshire_terrier', 'Maltese', 'Italian_greyhound', 'Havanese', 'Beagle', 'Pomeranian'], ['Bichon_frise', 'Chihuahua', 'American_eskimo_dog', 'American_staffordshire_terrier', 'Chinese_crested', 'Maltese', 'Italian_greyhound', 'Beagle', 'Pomeranian', 'Greyhound'], ['Bichon_frise', 'American_eskimo_dog', 'Chihuahua', 'Chinese_crested', 'Maltese', 'American_staffordshire_terrier', 'Italian_greyhound', 'Pomeranian', 'Havanese', 'Japanese_chin'], ['Bichon_frise', 'Chihuahua', 'American_staffordshire_terrier', 'American_eskimo_dog', 'Chinese_crested', 'Beagle', 'Maltese', 'Italian_greyhound', 'Greyhound', 'Norwegian_buhund'], ['Bichon_frise', 'Chihuahua', 'American_staffordshire_terrier', 'American_eskimo_dog', 'Chinese_crested', 'Maltese', 'Beagle', 'Italian_greyhound', 'Greyhound', 'Norwegian_buhund'], ['Bichon_frise', 'Chihuahua', 'American_staffordshire_terrier', 'American_eskimo_dog', 'Chinese_crested', 'Maltese', 'Beagle', 'Italian_greyhound', 'Havanese', 'Greyhound'], ['Bichon_frise', 'Maltese', 'American_eskimo_dog', 'Chihuahua', 'Chinese_crested', 'American_staffordshire_terrier', 'Havanese', 'Italian_greyhound', 'Japanese_chin', 'Pomeranian'], ['Bichon_frise', 'Chinese_crested', 'Chihuahua', 'American_eskimo_dog', 'Maltese', 'American_staffordshire_terrier', 'Italian_greyhound', 'Havanese', 'Pomeranian', 'Japanese_chin'], ['Bichon_frise', 'Chihuahua', 'American_eskimo_dog', 'Chinese_crested', 'American_staffordshire_terrier', 'Maltese', 'Italian_greyhound', 'Pomeranian', 'Havanese', 'Japanese_chin'], ['Bichon_frise', 'Chihuahua', 'American_staffordshire_terrier', 'American_eskimo_dog', 'Chinese_crested', 'Maltese', 'Beagle', 'Italian_greyhound', 'Norwegian_buhund', 'Havanese'], ['Bichon_frise', 'Chihuahua', 'American_eskimo_dog', 'American_staffordshire_terrier', 'Chinese_crested', 'Italian_greyhound', 'Maltese', 'Beagle', 'Norwegian_buhund', 'Icelandic_sheepdog'], ['Bichon_frise', 'Chihuahua', 'American_staffordshire_terrier', 'Chinese_crested', 'American_eskimo_dog', 'Beagle', 'Maltese', 'Italian_greyhound', 'Greyhound', 'Norwegian_buhund'], ['Bichon_frise', 'Chihuahua', 'American_eskimo_dog', 'American_staffordshire_terrier', 'Chinese_crested', 'Maltese', 'Beagle', 'Italian_greyhound', 'Norwegian_buhund', 'Poodle'], ['Bichon_frise', 'Chihuahua', 'American_staffordshire_terrier', 'Chinese_crested', 'Maltese', 'American_eskimo_dog', 'Italian_greyhound', 'Beagle', 'Havanese', 'Bull_terrier'], ['Bichon_frise', 'Maltese', 'Chinese_crested', 'Chihuahua', 'Havanese', 'American_staffordshire_terrier', 'American_eskimo_dog', 'Italian_greyhound', 'Japanese_chin', 'Lowchen'], ['Bichon_frise', 'American_eskimo_dog', 'Chihuahua', 'Maltese', 'Chinese_crested', 'American_staffordshire_terrier', 'Havanese', 'Italian_greyhound', 'Icelandic_sheepdog', 'Japanese_chin'], ['Bichon_frise', 'Chihuahua', 'American_staffordshire_terrier', 'American_eskimo_dog', 'Chinese_crested', 'Beagle', 'Maltese', 'Italian_greyhound', 'Greyhound', 'Poodle'], ['Bichon_frise', 'American_staffordshire_terrier', 'Maltese', 'Chinese_crested', 'Chihuahua', 'American_eskimo_dog', 'Italian_greyhound', 'Havanese', 'Beagle', 'Greyhound'], ['Bichon_frise', 'Chihuahua', 'American_staffordshire_terrier', 'American_eskimo_dog', 'Chinese_crested', 'Beagle', 'Maltese', 'Greyhound', 'Italian_greyhound', 'Norwegian_buhund'], ['Bichon_frise', 'American_eskimo_dog', 'Chihuahua', 'American_staffordshire_terrier', 'Chinese_crested', 'Maltese', 'Pomeranian', 'Beagle', 'Italian_greyhound', 'Norwegian_buhund'], ['Bichon_frise', 'Chihuahua', 'American_staffordshire_terrier', 'American_eskimo_dog', 'Chinese_crested', 'Maltese', 'Italian_greyhound', 'Beagle', 'Havanese', 'Greyhound'], ['Bichon_frise', 'American_staffordshire_terrier', 'American_eskimo_dog', 'Chihuahua', 'Chinese_crested', 'Maltese', 'Beagle', 'Italian_greyhound', 'Norwegian_buhund', 'Greyhound'], ['Bichon_frise', 'Chihuahua', 'American_staffordshire_terrier', 'Chinese_crested', 'American_eskimo_dog', 'Maltese', 'Beagle', 'Italian_greyhound', 'Havanese', 'Japanese_chin'], ['Bichon_frise', 'Chihuahua', 'American_staffordshire_terrier', 'American_eskimo_dog', 'Beagle', 'Chinese_crested', 'Maltese', 'American_foxhound', 'Greyhound', 'Poodle'], ['Bichon_frise', 'American_eskimo_dog', 'Chihuahua', 'Chinese_crested', 'American_staffordshire_terrier', 'Maltese', 'Italian_greyhound', 'Pomeranian', 'Havanese', 'Japanese_chin'], ['American_eskimo_dog', 'Chinese_crested', 'Bichon_frise', 'Chihuahua', 'Maltese', 'Pomeranian', 'Japanese_chin', 'American_staffordshire_terrier', 'Italian_greyhound', 'Havanese'], ['Bichon_frise', 'American_eskimo_dog', 'Chihuahua', 'Chinese_crested', 'American_staffordshire_terrier', 'Maltese', 'Italian_greyhound', 'Pomeranian', 'Icelandic_sheepdog', 'Havanese'], ['Bichon_frise', 'Chihuahua', 'American_staffordshire_terrier', 'Chinese_crested', 'American_eskimo_dog', 'Maltese', 'Italian_greyhound', 'Beagle', 'Havanese', 'Greyhound'], ['Bichon_frise', 'Chihuahua', 'American_eskimo_dog', 'American_staffordshire_terrier', 'Chinese_crested', 'Maltese', 'Beagle', 'Italian_greyhound', 'Pomeranian', 'Icelandic_sheepdog'], ['Bichon_frise', 'Chihuahua', 'American_staffordshire_terrier', 'Maltese', 'Chinese_crested', 'American_eskimo_dog', 'Italian_greyhound', 'Havanese', 'Greyhound', 'Cavalier_king_charles_spaniel'], ['Bichon_frise', 'Maltese', 'Chihuahua', 'Chinese_crested', 'American_staffordshire_terrier', 'American_eskimo_dog', 'Havanese', 'Italian_greyhound', 'Japanese_chin', 'Dalmatian'], ['Bichon_frise', 'Maltese', 'Chinese_crested', 'Chihuahua', 'American_staffordshire_terrier', 'American_eskimo_dog', 'Havanese', 'Italian_greyhound', 'Japanese_chin', 'Cavalier_king_charles_spaniel'], ['Bichon_frise', 'Chihuahua', 'Maltese', 'Chinese_crested', 'American_staffordshire_terrier', 'American_eskimo_dog', 'Havanese', 'Italian_greyhound', 'Japanese_chin', 'Bull_terrier'], ['Bichon_frise', 'Chihuahua', 'American_staffordshire_terrier', 'American_eskimo_dog', 'Chinese_crested', 'Beagle', 'Maltese', 'Greyhound', 'Italian_greyhound', 'Norwegian_buhund'], ['Bichon_frise', 'Chihuahua', 'American_staffordshire_terrier', 'American_eskimo_dog', 'Chinese_crested', 'Maltese', 'Italian_greyhound', 'Greyhound', 'Pomeranian', 'Havanese'], ['Bichon_frise', 'Chihuahua', 'American_eskimo_dog', 'American_staffordshire_terrier', 'Chinese_crested', 'Maltese', 'Italian_greyhound', 'Japanese_chin', 'Pomeranian', 'Greyhound'], ['Bichon_frise', 'Chihuahua', 'American_staffordshire_terrier', 'American_eskimo_dog', 'Chinese_crested', 'Maltese', 'Beagle', 'Italian_greyhound', 'Greyhound', 'Poodle']]\n"
     ]
    }
   ],
   "source": [
    "m = 3\n",
    "label_dir = \"dogImages/test/*/\"\n",
    "t_files, t_labels = load_dataset('testImage/test')\n",
    "\n",
    "dog_names = [item[19:-1] for item in sorted(glob(label_dir))]\n",
    "\n",
    "res50_predictor(dog_names ,resnet_model1,t_files,10)"
   ]
  },
  {
   "cell_type": "code",
   "execution_count": 130,
   "metadata": {},
   "outputs": [
    {
     "name": "stderr",
     "output_type": "stream",
     "text": [
      "\n",
      "\n",
      "\n",
      "\n",
      "\n",
      "\n",
      "\n",
      "\n",
      "  0%|          | 0/63 [00:00<?, ?it/s]\u001b[A\u001b[A\u001b[A\u001b[A\u001b[A\u001b[A\u001b[A\u001b[A\n",
      "\n",
      "\n",
      "\n",
      "\n",
      "\n",
      "\n",
      "\n",
      "  5%|▍         | 3/63 [00:00<00:02, 29.36it/s]\u001b[A\u001b[A\u001b[A\u001b[A\u001b[A\u001b[A\u001b[A\u001b[A\n",
      "\n",
      "\n",
      "\n",
      "\n",
      "\n",
      "\n",
      "\n",
      " 22%|██▏       | 14/63 [00:00<00:01, 37.07it/s]\u001b[A\u001b[A\u001b[A\u001b[A\u001b[A\u001b[A\u001b[A\u001b[A\n",
      "\n",
      "\n",
      "\n",
      "\n",
      "\n",
      "\n",
      "\n",
      " 37%|███▋      | 23/63 [00:00<00:00, 43.46it/s]\u001b[A\u001b[A\u001b[A\u001b[A\u001b[A\u001b[A\u001b[A\u001b[A\n",
      "\n",
      "\n",
      "\n",
      "\n",
      "\n",
      "\n",
      "\n",
      " 56%|█████▌    | 35/63 [00:00<00:00, 53.50it/s]\u001b[A\u001b[A\u001b[A\u001b[A\u001b[A\u001b[A\u001b[A\u001b[A\n",
      "\n",
      "\n",
      "\n",
      "\n",
      "\n",
      "\n",
      "\n",
      " 76%|███████▌  | 48/63 [00:00<00:00, 64.77it/s]\u001b[A\u001b[A\u001b[A\u001b[A\u001b[A\u001b[A\u001b[A\u001b[A\n",
      "\n",
      "\n",
      "\n",
      "\n",
      "\n",
      "\n",
      "\n",
      " 92%|█████████▏| 58/63 [00:00<00:00, 70.96it/s]\u001b[A\u001b[A\u001b[A\u001b[A\u001b[A\u001b[A\u001b[A\u001b[A\n",
      "\n",
      "\n",
      "\n",
      "\n",
      "\n",
      "\n",
      "\n",
      "100%|██████████| 63/63 [00:00<00:00, 88.79it/s]\u001b[A\u001b[A\u001b[A\u001b[A\u001b[A\u001b[A\u001b[A\u001b[A"
     ]
    },
    {
     "name": "stdout",
     "output_type": "stream",
     "text": [
      "[23 47  5]\n",
      "[23 47  7]\n",
      "[ 23  47 100]\n",
      "[23 47  5]\n",
      "[23 47  5]\n",
      "[23 48  5]\n",
      "[23  7 47]\n",
      "[23  7 47]\n",
      "[23  5 47]\n",
      "[23 47  7]\n",
      "[23  7 47]\n",
      "[ 48 100  23]\n",
      "[ 23  48 100]\n",
      "[23 47  5]\n",
      "[23  7 47]\n",
      "[23 47  7]\n",
      "[23 47  7]\n",
      "[23 47  7]\n",
      "[23  5 47]\n",
      "[100  23  48]\n",
      "[23 47  5]\n",
      "[ 23  47 100]\n",
      "[23 48  5]\n",
      "[23  7 47]\n",
      "[23 47  7]\n",
      "[23  7 47]\n",
      "[23  5 48]\n",
      "[23 47  5]\n",
      "[23  5 47]\n",
      "[23 47  7]\n",
      "[23 47  7]\n",
      "[23 47  7]\n",
      "[ 23 100   5]\n",
      "[23 48 47]\n",
      "[23 47  5]\n",
      "[23 47  7]\n",
      "[23 47  5]\n",
      "[23 47  7]\n",
      "[23 47  5]\n",
      "[23 47  7]\n",
      "[ 23 100  48]\n",
      "[23  5 47]\n",
      "[23 47  7]\n",
      "[ 23   7 100]\n",
      "[23 47  7]\n",
      "[23  5 47]\n",
      "[23 47  7]\n",
      "[23  7  5]\n",
      "[23 47  7]\n",
      "[23 47  7]\n",
      "[23  5 47]\n",
      "[ 5 48 23]\n",
      "[23  5 47]\n",
      "[23 47  7]\n",
      "[23 47  5]\n",
      "[23 47  7]\n",
      "[ 23 100  47]\n",
      "[ 23 100  48]\n",
      "[ 23  47 100]\n",
      "[23 47  7]\n",
      "[23 47  7]\n",
      "[23 47  5]\n",
      "[23 47  7]\n"
     ]
    },
    {
     "data": {
      "text/plain": [
       "[['Bichon_frise', 'Chihuahua', 'American_eskimo_dog'],\n",
       " ['Bichon_frise', 'Chihuahua', 'American_staffordshire_terrier'],\n",
       " ['Bichon_frise', 'Chihuahua', 'Maltese'],\n",
       " ['Bichon_frise', 'Chihuahua', 'American_eskimo_dog'],\n",
       " ['Bichon_frise', 'Chihuahua', 'American_eskimo_dog'],\n",
       " ['Bichon_frise', 'Chinese_crested', 'American_eskimo_dog'],\n",
       " ['Bichon_frise', 'American_staffordshire_terrier', 'Chihuahua'],\n",
       " ['Bichon_frise', 'American_staffordshire_terrier', 'Chihuahua'],\n",
       " ['Bichon_frise', 'American_eskimo_dog', 'Chihuahua'],\n",
       " ['Bichon_frise', 'Chihuahua', 'American_staffordshire_terrier'],\n",
       " ['Bichon_frise', 'American_staffordshire_terrier', 'Chihuahua'],\n",
       " ['Chinese_crested', 'Maltese', 'Bichon_frise'],\n",
       " ['Bichon_frise', 'Chinese_crested', 'Maltese'],\n",
       " ['Bichon_frise', 'Chihuahua', 'American_eskimo_dog'],\n",
       " ['Bichon_frise', 'American_staffordshire_terrier', 'Chihuahua'],\n",
       " ['Bichon_frise', 'Chihuahua', 'American_staffordshire_terrier'],\n",
       " ['Bichon_frise', 'Chihuahua', 'American_staffordshire_terrier'],\n",
       " ['Bichon_frise', 'Chihuahua', 'American_staffordshire_terrier'],\n",
       " ['Bichon_frise', 'American_eskimo_dog', 'Chihuahua'],\n",
       " ['Maltese', 'Bichon_frise', 'Chinese_crested'],\n",
       " ['Bichon_frise', 'Chihuahua', 'American_eskimo_dog'],\n",
       " ['Bichon_frise', 'Chihuahua', 'Maltese'],\n",
       " ['Bichon_frise', 'Chinese_crested', 'American_eskimo_dog'],\n",
       " ['Bichon_frise', 'American_staffordshire_terrier', 'Chihuahua'],\n",
       " ['Bichon_frise', 'Chihuahua', 'American_staffordshire_terrier'],\n",
       " ['Bichon_frise', 'American_staffordshire_terrier', 'Chihuahua'],\n",
       " ['Bichon_frise', 'American_eskimo_dog', 'Chinese_crested'],\n",
       " ['Bichon_frise', 'Chihuahua', 'American_eskimo_dog'],\n",
       " ['Bichon_frise', 'American_eskimo_dog', 'Chihuahua'],\n",
       " ['Bichon_frise', 'Chihuahua', 'American_staffordshire_terrier'],\n",
       " ['Bichon_frise', 'Chihuahua', 'American_staffordshire_terrier'],\n",
       " ['Bichon_frise', 'Chihuahua', 'American_staffordshire_terrier'],\n",
       " ['Bichon_frise', 'Maltese', 'American_eskimo_dog'],\n",
       " ['Bichon_frise', 'Chinese_crested', 'Chihuahua'],\n",
       " ['Bichon_frise', 'Chihuahua', 'American_eskimo_dog'],\n",
       " ['Bichon_frise', 'Chihuahua', 'American_staffordshire_terrier'],\n",
       " ['Bichon_frise', 'Chihuahua', 'American_eskimo_dog'],\n",
       " ['Bichon_frise', 'Chihuahua', 'American_staffordshire_terrier'],\n",
       " ['Bichon_frise', 'Chihuahua', 'American_eskimo_dog'],\n",
       " ['Bichon_frise', 'Chihuahua', 'American_staffordshire_terrier'],\n",
       " ['Bichon_frise', 'Maltese', 'Chinese_crested'],\n",
       " ['Bichon_frise', 'American_eskimo_dog', 'Chihuahua'],\n",
       " ['Bichon_frise', 'Chihuahua', 'American_staffordshire_terrier'],\n",
       " ['Bichon_frise', 'American_staffordshire_terrier', 'Maltese'],\n",
       " ['Bichon_frise', 'Chihuahua', 'American_staffordshire_terrier'],\n",
       " ['Bichon_frise', 'American_eskimo_dog', 'Chihuahua'],\n",
       " ['Bichon_frise', 'Chihuahua', 'American_staffordshire_terrier'],\n",
       " ['Bichon_frise', 'American_staffordshire_terrier', 'American_eskimo_dog'],\n",
       " ['Bichon_frise', 'Chihuahua', 'American_staffordshire_terrier'],\n",
       " ['Bichon_frise', 'Chihuahua', 'American_staffordshire_terrier'],\n",
       " ['Bichon_frise', 'American_eskimo_dog', 'Chihuahua'],\n",
       " ['American_eskimo_dog', 'Chinese_crested', 'Bichon_frise'],\n",
       " ['Bichon_frise', 'American_eskimo_dog', 'Chihuahua'],\n",
       " ['Bichon_frise', 'Chihuahua', 'American_staffordshire_terrier'],\n",
       " ['Bichon_frise', 'Chihuahua', 'American_eskimo_dog'],\n",
       " ['Bichon_frise', 'Chihuahua', 'American_staffordshire_terrier'],\n",
       " ['Bichon_frise', 'Maltese', 'Chihuahua'],\n",
       " ['Bichon_frise', 'Maltese', 'Chinese_crested'],\n",
       " ['Bichon_frise', 'Chihuahua', 'Maltese'],\n",
       " ['Bichon_frise', 'Chihuahua', 'American_staffordshire_terrier'],\n",
       " ['Bichon_frise', 'Chihuahua', 'American_staffordshire_terrier'],\n",
       " ['Bichon_frise', 'Chihuahua', 'American_eskimo_dog'],\n",
       " ['Bichon_frise', 'Chihuahua', 'American_staffordshire_terrier']]"
      ]
     },
     "execution_count": 130,
     "metadata": {},
     "output_type": "execute_result"
    }
   ],
   "source": [
    "tt_files_name = \"testImage/test\"\n",
    "tt_files, tt_targets = load_dataset(tt_files_name)\n",
    "tt_tensors = paths_to_tensor(tt_files)\n",
    "tt_features_resnet50 = extract_Resnet50(tt_tensors)\n",
    "tt_features_resnet50 = np.expand_dims(tt_features_resnet50, axis=1)\n",
    "tt_features_resnet50 = np.expand_dims(tt_features_resnet50, axis=1)\n",
    "\n",
    "make_prediction(dog_names,resnet_model1,tt_features_resnet50,3)"
   ]
  },
  {
   "cell_type": "code",
   "execution_count": 131,
   "metadata": {},
   "outputs": [
    {
     "name": "stdout",
     "output_type": "stream",
     "text": [
      "[ 3  5 42]\n",
      "[ 3 50 66]\n",
      "[ 3  9 42]\n",
      "[ 3 83 66]\n",
      "[ 3 42 83]\n",
      "[  3 107  50]\n",
      "[  3 107  66]\n",
      "[ 3 42  5]\n",
      "[  3   9 108]\n",
      "[  3  42 107]\n",
      "[ 3 50 66]\n",
      "[ 3 83  4]\n",
      "[ 3 83 78]\n",
      "[ 3 78  5]\n",
      "[  3 108   4]\n",
      "[  3 107  42]\n",
      "[  3 107  42]\n",
      "[  3 107  50]\n",
      "[ 3 83  4]\n",
      "[ 3 66 50]\n",
      "[ 3 83 66]\n",
      "[ 3 50 66]\n",
      "[  3 108   4]\n",
      "[ 3 42  9]\n",
      "[ 3 42  5]\n",
      "[  3  83 107]\n",
      "[19 70  3]\n",
      "[108   3  50]\n",
      "[ 3 42 83]\n",
      "[  3 107  42]\n",
      "[  3 107  42]\n",
      "[  3   9 107]\n",
      "[ 3 19  9]\n",
      "[  3  83 107]\n",
      "[ 3 83 44]\n",
      "[ 3 42 38]\n",
      "[  3 107  66]\n",
      "[ 3 83 66]\n",
      "[  3 108   9]\n",
      "[ 3 83 42]\n",
      "[ 3 42 38]\n",
      "[  3  83 107]\n",
      "[  3   9 108]\n",
      "[ 3  4 83]\n",
      "[50  3 83]\n",
      "[  3 107  66]\n",
      "[  3   9 108]\n",
      "[108   3   9]\n",
      "[ 3 42  9]\n",
      "[ 3 66 50]\n",
      "[ 3 66 83]\n",
      "[ 3  9 42]\n",
      "[  3   5 107]\n",
      "[ 3 70 21]\n",
      "[ 3 83  4]\n",
      "[ 3 42  9]\n",
      "[ 3 42  9]\n",
      "[ 3 83 91]\n",
      "[108   3  19]\n",
      "[ 3 66 83]\n",
      "[  3 127  42]\n",
      "[  3 108   9]\n",
      "[ 3 66 50]\n"
     ]
    },
    {
     "data": {
      "text/plain": [
       "[['Akita', 'American_eskimo_dog', 'Canaan_dog'],\n",
       " ['Akita', 'Chow_chow', 'Finnish_spitz'],\n",
       " ['Akita', 'Anatolian_shepherd_dog', 'Canaan_dog'],\n",
       " ['Akita', 'Icelandic_sheepdog', 'Finnish_spitz'],\n",
       " ['Akita', 'Canaan_dog', 'Icelandic_sheepdog'],\n",
       " ['Akita', 'Norwegian_buhund', 'Chow_chow'],\n",
       " ['Akita', 'Norwegian_buhund', 'Finnish_spitz'],\n",
       " ['Akita', 'Canaan_dog', 'American_eskimo_dog'],\n",
       " ['Akita', 'Anatolian_shepherd_dog', 'Norwegian_elkhound'],\n",
       " ['Akita', 'Canaan_dog', 'Norwegian_buhund'],\n",
       " ['Akita', 'Chow_chow', 'Finnish_spitz'],\n",
       " ['Akita', 'Icelandic_sheepdog', 'Alaskan_malamute'],\n",
       " ['Akita', 'Icelandic_sheepdog', 'Great_pyrenees'],\n",
       " ['Akita', 'Great_pyrenees', 'American_eskimo_dog'],\n",
       " ['Akita', 'Norwegian_elkhound', 'Alaskan_malamute'],\n",
       " ['Akita', 'Norwegian_buhund', 'Canaan_dog'],\n",
       " ['Akita', 'Norwegian_buhund', 'Canaan_dog'],\n",
       " ['Akita', 'Norwegian_buhund', 'Chow_chow'],\n",
       " ['Akita', 'Icelandic_sheepdog', 'Alaskan_malamute'],\n",
       " ['Akita', 'Finnish_spitz', 'Chow_chow'],\n",
       " ['Akita', 'Icelandic_sheepdog', 'Finnish_spitz'],\n",
       " ['Akita', 'Chow_chow', 'Finnish_spitz'],\n",
       " ['Akita', 'Norwegian_elkhound', 'Alaskan_malamute'],\n",
       " ['Akita', 'Canaan_dog', 'Anatolian_shepherd_dog'],\n",
       " ['Akita', 'Canaan_dog', 'American_eskimo_dog'],\n",
       " ['Akita', 'Icelandic_sheepdog', 'Norwegian_buhund'],\n",
       " ['Belgian_malinois', 'German_shepherd_dog', 'Akita'],\n",
       " ['Norwegian_elkhound', 'Akita', 'Chow_chow'],\n",
       " ['Akita', 'Canaan_dog', 'Icelandic_sheepdog'],\n",
       " ['Akita', 'Norwegian_buhund', 'Canaan_dog'],\n",
       " ['Akita', 'Norwegian_buhund', 'Canaan_dog'],\n",
       " ['Akita', 'Anatolian_shepherd_dog', 'Norwegian_buhund'],\n",
       " ['Akita', 'Belgian_malinois', 'Anatolian_shepherd_dog'],\n",
       " ['Akita', 'Icelandic_sheepdog', 'Norwegian_buhund'],\n",
       " ['Akita', 'Icelandic_sheepdog', 'Cardigan_welsh_corgi'],\n",
       " ['Akita', 'Canaan_dog', 'Bull_terrier'],\n",
       " ['Akita', 'Norwegian_buhund', 'Finnish_spitz'],\n",
       " ['Akita', 'Icelandic_sheepdog', 'Finnish_spitz'],\n",
       " ['Akita', 'Norwegian_elkhound', 'Anatolian_shepherd_dog'],\n",
       " ['Akita', 'Icelandic_sheepdog', 'Canaan_dog'],\n",
       " ['Akita', 'Canaan_dog', 'Bull_terrier'],\n",
       " ['Akita', 'Icelandic_sheepdog', 'Norwegian_buhund'],\n",
       " ['Akita', 'Anatolian_shepherd_dog', 'Norwegian_elkhound'],\n",
       " ['Akita', 'Alaskan_malamute', 'Icelandic_sheepdog'],\n",
       " ['Chow_chow', 'Akita', 'Icelandic_sheepdog'],\n",
       " ['Akita', 'Norwegian_buhund', 'Finnish_spitz'],\n",
       " ['Akita', 'Anatolian_shepherd_dog', 'Norwegian_elkhound'],\n",
       " ['Norwegian_elkhound', 'Akita', 'Anatolian_shepherd_dog'],\n",
       " ['Akita', 'Canaan_dog', 'Anatolian_shepherd_dog'],\n",
       " ['Akita', 'Finnish_spitz', 'Chow_chow'],\n",
       " ['Akita', 'Finnish_spitz', 'Icelandic_sheepdog'],\n",
       " ['Akita', 'Anatolian_shepherd_dog', 'Canaan_dog'],\n",
       " ['Akita', 'American_eskimo_dog', 'Norwegian_buhund'],\n",
       " ['Akita', 'German_shepherd_dog', 'Belgian_tervuren'],\n",
       " ['Akita', 'Icelandic_sheepdog', 'Alaskan_malamute'],\n",
       " ['Akita', 'Canaan_dog', 'Anatolian_shepherd_dog'],\n",
       " ['Akita', 'Canaan_dog', 'Anatolian_shepherd_dog'],\n",
       " ['Akita', 'Icelandic_sheepdog', 'Keeshond'],\n",
       " ['Norwegian_elkhound', 'Akita', 'Belgian_malinois'],\n",
       " ['Akita', 'Finnish_spitz', 'Icelandic_sheepdog'],\n",
       " ['Akita', 'Smooth_fox_terrier', 'Canaan_dog'],\n",
       " ['Akita', 'Norwegian_elkhound', 'Anatolian_shepherd_dog'],\n",
       " ['Akita', 'Finnish_spitz', 'Chow_chow']]"
      ]
     },
     "execution_count": 131,
     "metadata": {},
     "output_type": "execute_result"
    }
   ],
   "source": [
    "tt = np.load('tt50data.npz')['test']\n",
    "make_prediction(dog_names,resnet_model1,tt,3)"
   ]
  },
  {
   "cell_type": "code",
   "execution_count": 103,
   "metadata": {
    "collapsed": true
   },
   "outputs": [],
   "source": [
    "def transfer_learning_Xception(train_dir, batch_size,class_num,epoch = 10, samples_per_epoch = 100, transformation_ratio = .05):\n",
    "    xception_width = 299\n",
    "    xception_height = 299\n",
    "#     class_num = 10\n",
    "    base_model = Xception(input_shape=(xception_width, xception_height, 3), weights='imagenet', include_top=False)\n",
    "\n",
    "    # Top Model Block\n",
    "    x = base_model.output\n",
    "    x = GlobalAveragePooling2D()(x)\n",
    "    predictions = Dense(class_num, activation='softmax')(x)\n",
    "\n",
    "    # add your top layer block to base model\n",
    "    model = Model(base_model.input, predictions)\n",
    "#     print(model.summary())\n",
    "    for layer in base_model.layers:\n",
    "        layer.trainable = False \n",
    "#     train_datagen = ImageDataGenerator(rescale=1. / 255,\n",
    "#                                        rotation_range=transformation_ratio,\n",
    "#                                        shear_range=transformation_ratio,\n",
    "#                                        zoom_range=transformation_ratio,\n",
    "#                                        cval=transformation_ratio,\n",
    "#                                        horizontal_flip=True,\n",
    "#                                        vertical_flip=True)\n",
    "    train_datagen = ImageDataGenerator(rescale=1. / 255)\n",
    "\n",
    "#     validation_datagen = ImageDataGenerator(rescale=1. / 255)\n",
    "    train_generator = train_datagen.flow_from_directory(train_dir,\n",
    "                                                        target_size=(xception_width, xception_height),\n",
    "                                                        batch_size=batch_size,\n",
    "                                                        class_mode='categorical')\n",
    "    filenames = train_generator.filenames\n",
    "    nb_sample = len(filenames)\n",
    "    print(nb_sample)\n",
    "    model.compile(optimizer='nadam',\n",
    "                  loss='categorical_crossentropy',  # categorical_crossentropy if multi-class classifier\n",
    "                  metrics=['accuracy'])\n",
    "    checkpointer = ModelCheckpoint(filepath='saved_models/weights.best.Xception.hdf5', \n",
    "                               verbose=1, save_best_only=True)\n",
    "\n",
    "    early_stop = EarlyStopping(monitor='val_loss', min_delta=0.005, patience=5, verbose=0, mode='auto')\n",
    "    model.fit_generator(train_generator,\n",
    "                        samples_per_epoch=100,\n",
    "                        nb_epoch = epoch,callbacks=[checkpointer, early_stop])\n",
    "    print('done training')\n",
    "    return model"
   ]
  },
  {
   "cell_type": "code",
   "execution_count": 104,
   "metadata": {
    "scrolled": true
   },
   "outputs": [
    {
     "name": "stdout",
     "output_type": "stream",
     "text": [
      "Found 870 images belonging to 10 classes.\n",
      "870\n"
     ]
    },
    {
     "name": "stderr",
     "output_type": "stream",
     "text": [
      "/anaconda3/lib/python3.6/site-packages/ipykernel_launcher.py:43: UserWarning: The semantics of the Keras 2 argument `steps_per_epoch` is not the same as the Keras 1 argument `samples_per_epoch`. `steps_per_epoch` is the number of batches to draw from the generator at each epoch. Basically steps_per_epoch = samples_per_epoch/batch_size. Similarly `nb_val_samples`->`validation_steps` and `val_samples`->`steps` arguments have changed. Update your method calls accordingly.\n",
      "/anaconda3/lib/python3.6/site-packages/ipykernel_launcher.py:43: UserWarning: Update your `fit_generator` call to the Keras 2 API: `fit_generator(<keras_pre..., callbacks=[<keras.ca..., steps_per_epoch=5, epochs=5)`\n"
     ]
    },
    {
     "name": "stdout",
     "output_type": "stream",
     "text": [
      "Epoch 1/5\n",
      "5/5 [==============================] - 65s 13s/step - loss: 2.0961 - acc: 0.3000\n",
      "Epoch 2/5\n"
     ]
    },
    {
     "name": "stderr",
     "output_type": "stream",
     "text": [
      "/anaconda3/lib/python3.6/site-packages/keras/callbacks.py:434: RuntimeWarning: Can save best model only with val_loss available, skipping.\n",
      "  'skipping.' % (self.monitor), RuntimeWarning)\n",
      "/anaconda3/lib/python3.6/site-packages/keras/callbacks.py:569: RuntimeWarning: Early stopping conditioned on metric `val_loss` which is not available. Available metrics are: loss,acc\n",
      "  (self.monitor, ','.join(list(logs.keys()))), RuntimeWarning\n"
     ]
    },
    {
     "name": "stdout",
     "output_type": "stream",
     "text": [
      "5/5 [==============================] - 47s 9s/step - loss: 1.3748 - acc: 0.8100\n",
      "Epoch 3/5\n",
      "5/5 [==============================] - 40s 8s/step - loss: 0.9841 - acc: 0.8900\n",
      "Epoch 4/5\n",
      "5/5 [==============================] - 39s 8s/step - loss: 0.5879 - acc: 0.9400\n",
      "Epoch 5/5\n",
      "5/5 [==============================] - 45s 9s/step - loss: 0.3475 - acc: 0.9900\n",
      "done training\n"
     ]
    }
   ],
   "source": [
    "model = transfer_learning_Xception('dataset_small/train',20,10,epoch = 5)"
   ]
  },
  {
   "cell_type": "code",
   "execution_count": 133,
   "metadata": {
    "collapsed": true
   },
   "outputs": [],
   "source": [
    "def test_xception(test_dir):\n",
    "    xception_width = 299\n",
    "    xception_height = 299\n",
    "    batch_size = 20\n",
    "    test_datagen = ImageDataGenerator(rescale=1. / 255)\n",
    "    print(test_datagen)\n",
    "    test_generator = test_datagen.flow_from_directory(test_dir,\n",
    "                                                        target_size=(xception_width, xception_height),\n",
    "                                                        batch_size=1739,\n",
    "                                                        class_mode='categorical')\n",
    "    X,y =  test_generator.next()\n",
    "    return X,y"
   ]
  },
  {
   "cell_type": "code",
   "execution_count": 134,
   "metadata": {},
   "outputs": [
    {
     "name": "stdout",
     "output_type": "stream",
     "text": [
      "<keras.preprocessing.image.ImageDataGenerator object at 0x1af99dc0b8>\n",
      "Found 1739 images belonging to 10 classes.\n"
     ]
    }
   ],
   "source": [
    "test_data,test_label = test_xception('dataset_small/test')"
   ]
  },
  {
   "cell_type": "code",
   "execution_count": 123,
   "metadata": {},
   "outputs": [
    {
     "name": "stdout",
     "output_type": "stream",
     "text": [
      "[[0. 0. 0. ... 0. 0. 0.]\n",
      " [0. 0. 1. ... 0. 0. 0.]\n",
      " [0. 1. 0. ... 0. 0. 0.]\n",
      " ...\n",
      " [0. 0. 0. ... 1. 0. 0.]\n",
      " [0. 0. 0. ... 0. 0. 0.]\n",
      " [0. 0. 0. ... 0. 1. 0.]]\n"
     ]
    }
   ],
   "source": [
    "print(test_label)"
   ]
  },
  {
   "cell_type": "code",
   "execution_count": 135,
   "metadata": {},
   "outputs": [
    {
     "name": "stdout",
     "output_type": "stream",
     "text": [
      "0.3450258769407706\n"
     ]
    }
   ],
   "source": [
    "res = [np.argmax(model.predict(np.expand_dims(test,axis = 0))) for test in test_data]\n",
    "a = 100* np.sum(res == np.argmax(test_label, axis = 1))/len(test_label)\n",
    "print(a)"
   ]
  },
  {
   "cell_type": "code",
   "execution_count": 266,
   "metadata": {
    "collapsed": true
   },
   "outputs": [],
   "source": [
    "arr = [1,2,3,4,5,6]\n",
    "arr = np.array(arr)"
   ]
  },
  {
   "cell_type": "code",
   "execution_count": 275,
   "metadata": {},
   "outputs": [
    {
     "name": "stdout",
     "output_type": "stream",
     "text": [
      "[5]\n"
     ]
    }
   ],
   "source": [
    "idx = (-arr).argsort()[:1]\n",
    "print(idx)"
   ]
  },
  {
   "cell_type": "code",
   "execution_count": null,
   "metadata": {
    "collapsed": true
   },
   "outputs": [],
   "source": []
  }
 ],
 "metadata": {
  "kernelspec": {
   "display_name": "Python 3",
   "language": "python",
   "name": "python3"
  },
  "language_info": {
   "codemirror_mode": {
    "name": "ipython",
    "version": 3
   },
   "file_extension": ".py",
   "mimetype": "text/x-python",
   "name": "python",
   "nbconvert_exporter": "python",
   "pygments_lexer": "ipython3",
   "version": "3.6.3"
  }
 },
 "nbformat": 4,
 "nbformat_minor": 2
}
